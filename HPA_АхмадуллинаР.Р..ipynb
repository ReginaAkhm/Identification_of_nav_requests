{
  "nbformat": 4,
  "nbformat_minor": 0,
  "metadata": {
    "colab": {
      "name": "HPA (1).ipynb",
      "provenance": [],
      "collapsed_sections": [],
      "toc_visible": true
    },
    "kernelspec": {
      "display_name": "Python 3",
      "name": "python3"
    },
    "language_info": {
      "name": "python"
    }
  },
  "cells": [
    {
      "cell_type": "markdown",
      "metadata": {
        "id": "Il2QbiJzjDZg"
      },
      "source": [
        "# Задача\n",
        "  по кликовой статистике выделить навигационные запросы\n",
        "\n",
        "  - Навигационный запрос – запрос на поиск конкретного документа."
      ]
    },
    {
      "cell_type": "markdown",
      "metadata": {
        "id": "9_k9U8ZNbJfA"
      },
      "source": [
        "#Загрузка и чтение файлов###"
      ]
    },
    {
      "cell_type": "code",
      "metadata": {
        "id": "BVdWvYtooVd6"
      },
      "source": [
        "from google_drive_downloader import GoogleDriveDownloader as gdd\n",
        "import pandas as pd\n",
        "import numpy as np\n",
        "import matplotlib.pyplot as plt\n",
        "%matplotlib inline"
      ],
      "execution_count": 1,
      "outputs": []
    },
    {
      "cell_type": "code",
      "metadata": {
        "id": "pT1yytfp3O8v"
      },
      "source": [
        "import sklearn\n",
        "from sklearn.model_selection import train_test_split\n",
        "from sklearn.linear_model import LinearRegression\n",
        "from sklearn.metrics import confusion_matrix\n",
        "from sklearn.linear_model import LogisticRegression\n",
        "from sklearn.tree import DecisionTreeClassifier\n",
        "from sklearn.metrics import f1_score"
      ],
      "execution_count": 2,
      "outputs": []
    },
    {
      "cell_type": "code",
      "metadata": {
        "colab": {
          "base_uri": "https://localhost:8080/"
        },
        "id": "3IDQfb80mPpf",
        "outputId": "921f2b63-23ab-4003-b9cc-b406cacb192c"
      },
      "source": [
        "gdd.download_file_from_google_drive(file_id='1NUyi0XrL_t3O8d7QrCl6bKErfEtfqVF7',\n",
        "                                    dest_path='./task_1.rar')\n",
        "get_ipython().system_raw(\"unrar x task_1.rar\")"
      ],
      "execution_count": 3,
      "outputs": [
        {
          "output_type": "stream",
          "text": [
            "Downloading 1NUyi0XrL_t3O8d7QrCl6bKErfEtfqVF7 into ./task_1.rar... Done.\n"
          ],
          "name": "stdout"
        }
      ]
    },
    {
      "cell_type": "code",
      "metadata": {
        "id": "ioCrIu-1B03z"
      },
      "source": [
        "gdd.download_file_from_google_drive(file_id='1xc2SjqjZ01eyWeN0aWCYK83g0mlyJ4BG',\n",
        "                                    dest_path='./table_1_1.csv')"
      ],
      "execution_count": 4,
      "outputs": []
    },
    {
      "cell_type": "code",
      "metadata": {
        "colab": {
          "base_uri": "https://localhost:8080/",
          "height": 79
        },
        "id": "MyHKwqbeoidl",
        "outputId": "81cba848-3bdb-44ae-dc3d-ced255bda022"
      },
      "source": [
        "CTR_position = pd.read_csv('/content/table_1.csv', encoding='windows-1251',  sep=\";\", decimal=\",\")\n",
        "CTR_position['Query'] = CTR_position['Query'].str.lower()\n",
        "CTR_position.head(1)"
      ],
      "execution_count": 5,
      "outputs": [
        {
          "output_type": "execute_result",
          "data": {
            "text/html": [
              "<div>\n",
              "<style scoped>\n",
              "    .dataframe tbody tr th:only-of-type {\n",
              "        vertical-align: middle;\n",
              "    }\n",
              "\n",
              "    .dataframe tbody tr th {\n",
              "        vertical-align: top;\n",
              "    }\n",
              "\n",
              "    .dataframe thead th {\n",
              "        text-align: right;\n",
              "    }\n",
              "</style>\n",
              "<table border=\"1\" class=\"dataframe\">\n",
              "  <thead>\n",
              "    <tr style=\"text-align: right;\">\n",
              "      <th></th>\n",
              "      <th>Query</th>\n",
              "      <th>CTR1</th>\n",
              "      <th>CTR2</th>\n",
              "      <th>CTR3</th>\n",
              "      <th>CTR4</th>\n",
              "      <th>CTR5</th>\n",
              "      <th>CTR6</th>\n",
              "      <th>CTR7</th>\n",
              "      <th>CTR8</th>\n",
              "      <th>CTR9</th>\n",
              "      <th>CTR10</th>\n",
              "    </tr>\n",
              "  </thead>\n",
              "  <tbody>\n",
              "    <tr>\n",
              "      <th>0</th>\n",
              "      <td>ярмарка выходного дня</td>\n",
              "      <td>31.914894</td>\n",
              "      <td>17.021277</td>\n",
              "      <td>8.510638</td>\n",
              "      <td>10.638298</td>\n",
              "      <td>2.12766</td>\n",
              "      <td>10.638298</td>\n",
              "      <td>6.382979</td>\n",
              "      <td>10.638298</td>\n",
              "      <td>8.510638</td>\n",
              "      <td>2.12766</td>\n",
              "    </tr>\n",
              "  </tbody>\n",
              "</table>\n",
              "</div>"
            ],
            "text/plain": [
              "                   Query       CTR1       CTR2  ...       CTR8      CTR9    CTR10\n",
              "0  ярмарка выходного дня  31.914894  17.021277  ...  10.638298  8.510638  2.12766\n",
              "\n",
              "[1 rows x 11 columns]"
            ]
          },
          "metadata": {
            "tags": []
          },
          "execution_count": 5
        }
      ]
    },
    {
      "cell_type": "code",
      "metadata": {
        "colab": {
          "base_uri": "https://localhost:8080/",
          "height": 79
        },
        "id": "xW6hLLHaGxxK",
        "outputId": "3f132fe4-7d4e-44ee-9217-832a0b1e4b38"
      },
      "source": [
        "CTR_docs = pd.read_csv('/content/table_2.csv', encoding='windows-1251',  sep=\";\", decimal=\",\").rename(columns={\"Запрос\": \"Query\"})\n",
        "CTR_docs['Query'] = CTR_docs['Query'].str.lower()\n",
        "CTR_docs.head(1)"
      ],
      "execution_count": 6,
      "outputs": [
        {
          "output_type": "execute_result",
          "data": {
            "text/html": [
              "<div>\n",
              "<style scoped>\n",
              "    .dataframe tbody tr th:only-of-type {\n",
              "        vertical-align: middle;\n",
              "    }\n",
              "\n",
              "    .dataframe tbody tr th {\n",
              "        vertical-align: top;\n",
              "    }\n",
              "\n",
              "    .dataframe thead th {\n",
              "        text-align: right;\n",
              "    }\n",
              "</style>\n",
              "<table border=\"1\" class=\"dataframe\">\n",
              "  <thead>\n",
              "    <tr style=\"text-align: right;\">\n",
              "      <th></th>\n",
              "      <th>Query</th>\n",
              "      <th>ID документа</th>\n",
              "      <th>Число показов</th>\n",
              "      <th>CTR документа</th>\n",
              "    </tr>\n",
              "  </thead>\n",
              "  <tbody>\n",
              "    <tr>\n",
              "      <th>0</th>\n",
              "      <td>ярмарка выходного дня</td>\n",
              "      <td>993863</td>\n",
              "      <td>45</td>\n",
              "      <td>6.666667</td>\n",
              "    </tr>\n",
              "  </tbody>\n",
              "</table>\n",
              "</div>"
            ],
            "text/plain": [
              "                   Query  ID документа  Число показов  CTR документа\n",
              "0  ярмарка выходного дня        993863             45       6.666667"
            ]
          },
          "metadata": {
            "tags": []
          },
          "execution_count": 6
        }
      ]
    },
    {
      "cell_type": "code",
      "metadata": {
        "colab": {
          "base_uri": "https://localhost:8080/",
          "height": 79
        },
        "id": "u1cPV3vfHX2E",
        "outputId": "cda6cdb6-639a-4cb4-b040-225e020a52c1"
      },
      "source": [
        "target = pd.read_csv('/content/table_3.csv', encoding='windows-1251',  sep=\";\", decimal=\",\").rename(columns={\"Query\": \"Query_x\"})\n",
        "target['type'] = target['type'].map({'nonav': 0, 'nav': 1})\n",
        "target['Query_x'] = target['Query_x'].str.lower()\n",
        "target.head(1)"
      ],
      "execution_count": 7,
      "outputs": [
        {
          "output_type": "execute_result",
          "data": {
            "text/html": [
              "<div>\n",
              "<style scoped>\n",
              "    .dataframe tbody tr th:only-of-type {\n",
              "        vertical-align: middle;\n",
              "    }\n",
              "\n",
              "    .dataframe tbody tr th {\n",
              "        vertical-align: top;\n",
              "    }\n",
              "\n",
              "    .dataframe thead th {\n",
              "        text-align: right;\n",
              "    }\n",
              "</style>\n",
              "<table border=\"1\" class=\"dataframe\">\n",
              "  <thead>\n",
              "    <tr style=\"text-align: right;\">\n",
              "      <th></th>\n",
              "      <th>Query_x</th>\n",
              "      <th>type</th>\n",
              "    </tr>\n",
              "  </thead>\n",
              "  <tbody>\n",
              "    <tr>\n",
              "      <th>0</th>\n",
              "      <td>ярмарка выходного дня</td>\n",
              "      <td>0</td>\n",
              "    </tr>\n",
              "  </tbody>\n",
              "</table>\n",
              "</div>"
            ],
            "text/plain": [
              "                 Query_x  type\n",
              "0  ярмарка выходного дня     0"
            ]
          },
          "metadata": {
            "tags": []
          },
          "execution_count": 7
        }
      ]
    },
    {
      "cell_type": "code",
      "metadata": {
        "colab": {
          "base_uri": "https://localhost:8080/"
        },
        "id": "vM8HvFgFmF9I",
        "outputId": "2d16093f-19c0-4b3b-8837-dfebd2f546f1"
      },
      "source": [
        "CTR_position.shape, target.shape, CTR_docs.shape"
      ],
      "execution_count": 8,
      "outputs": [
        {
          "output_type": "execute_result",
          "data": {
            "text/plain": [
              "((53281, 11), (53281, 2), (509020, 4))"
            ]
          },
          "metadata": {
            "tags": []
          },
          "execution_count": 8
        }
      ]
    },
    {
      "cell_type": "markdown",
      "metadata": {
        "id": "cSiYeXrgbZLb"
      },
      "source": [
        "# Feature Engineering\n",
        "\n"
      ]
    },
    {
      "cell_type": "markdown",
      "metadata": {
        "id": "pwgsYG001VL6"
      },
      "source": [
        "## CTR_position"
      ]
    },
    {
      "cell_type": "markdown",
      "metadata": {
        "id": "8v6srfii2C5F"
      },
      "source": [
        "Основные идеи и предположения:\n",
        "\n",
        "1.   Кликабельность первой позиции у навигационных запосов выше кликабельности остальных\n",
        "2. Кликабельность одной i-ой позиции выше кликабельности остальных (из-за добавления новых документов или прочих причин может сбиться ранжирование)\n",
        "\n",
        "\n"
      ]
    },
    {
      "cell_type": "code",
      "metadata": {
        "colab": {
          "base_uri": "https://localhost:8080/",
          "height": 355
        },
        "id": "skIK3HW3Qr5y",
        "outputId": "b1f2db1c-c662-47e9-e57a-a67b2a2f8895"
      },
      "source": [
        "df = pd.concat([CTR_position, target], axis= 1).drop(\"Query_x\", axis = 1)\n",
        "df.head(10)"
      ],
      "execution_count": 9,
      "outputs": [
        {
          "output_type": "execute_result",
          "data": {
            "text/html": [
              "<div>\n",
              "<style scoped>\n",
              "    .dataframe tbody tr th:only-of-type {\n",
              "        vertical-align: middle;\n",
              "    }\n",
              "\n",
              "    .dataframe tbody tr th {\n",
              "        vertical-align: top;\n",
              "    }\n",
              "\n",
              "    .dataframe thead th {\n",
              "        text-align: right;\n",
              "    }\n",
              "</style>\n",
              "<table border=\"1\" class=\"dataframe\">\n",
              "  <thead>\n",
              "    <tr style=\"text-align: right;\">\n",
              "      <th></th>\n",
              "      <th>Query</th>\n",
              "      <th>CTR1</th>\n",
              "      <th>CTR2</th>\n",
              "      <th>CTR3</th>\n",
              "      <th>CTR4</th>\n",
              "      <th>CTR5</th>\n",
              "      <th>CTR6</th>\n",
              "      <th>CTR7</th>\n",
              "      <th>CTR8</th>\n",
              "      <th>CTR9</th>\n",
              "      <th>CTR10</th>\n",
              "      <th>type</th>\n",
              "    </tr>\n",
              "  </thead>\n",
              "  <tbody>\n",
              "    <tr>\n",
              "      <th>0</th>\n",
              "      <td>ярмарка выходного дня</td>\n",
              "      <td>31.914894</td>\n",
              "      <td>17.021277</td>\n",
              "      <td>8.510638</td>\n",
              "      <td>10.638298</td>\n",
              "      <td>2.127660</td>\n",
              "      <td>10.638298</td>\n",
              "      <td>6.382979</td>\n",
              "      <td>10.638298</td>\n",
              "      <td>8.510638</td>\n",
              "      <td>2.127660</td>\n",
              "      <td>0</td>\n",
              "    </tr>\n",
              "    <tr>\n",
              "      <th>1</th>\n",
              "      <td>ярмарка</td>\n",
              "      <td>48.734177</td>\n",
              "      <td>6.329114</td>\n",
              "      <td>13.924051</td>\n",
              "      <td>10.759494</td>\n",
              "      <td>9.493671</td>\n",
              "      <td>6.329114</td>\n",
              "      <td>9.493671</td>\n",
              "      <td>6.329114</td>\n",
              "      <td>2.531646</td>\n",
              "      <td>1.898734</td>\n",
              "      <td>0</td>\n",
              "    </tr>\n",
              "    <tr>\n",
              "      <th>2</th>\n",
              "      <td>яндекс</td>\n",
              "      <td>5.202312</td>\n",
              "      <td>2.890173</td>\n",
              "      <td>1.156069</td>\n",
              "      <td>1.734104</td>\n",
              "      <td>0.578035</td>\n",
              "      <td>0.000000</td>\n",
              "      <td>0.578035</td>\n",
              "      <td>0.578035</td>\n",
              "      <td>0.000000</td>\n",
              "      <td>0.000000</td>\n",
              "      <td>0</td>\n",
              "    </tr>\n",
              "    <tr>\n",
              "      <th>3</th>\n",
              "      <td>янао</td>\n",
              "      <td>18.518518</td>\n",
              "      <td>11.111111</td>\n",
              "      <td>18.518518</td>\n",
              "      <td>11.111111</td>\n",
              "      <td>11.111111</td>\n",
              "      <td>7.407407</td>\n",
              "      <td>0.000000</td>\n",
              "      <td>0.000000</td>\n",
              "      <td>0.000000</td>\n",
              "      <td>3.703704</td>\n",
              "      <td>0</td>\n",
              "    </tr>\n",
              "    <tr>\n",
              "      <th>4</th>\n",
              "      <td>якутия</td>\n",
              "      <td>6.666667</td>\n",
              "      <td>6.666667</td>\n",
              "      <td>3.333333</td>\n",
              "      <td>3.333333</td>\n",
              "      <td>0.000000</td>\n",
              "      <td>3.333333</td>\n",
              "      <td>3.333333</td>\n",
              "      <td>3.333333</td>\n",
              "      <td>0.000000</td>\n",
              "      <td>0.000000</td>\n",
              "      <td>0</td>\n",
              "    </tr>\n",
              "    <tr>\n",
              "      <th>5</th>\n",
              "      <td>як-7-8/393</td>\n",
              "      <td>98.850575</td>\n",
              "      <td>5.747126</td>\n",
              "      <td>0.000000</td>\n",
              "      <td>0.000000</td>\n",
              "      <td>0.000000</td>\n",
              "      <td>0.000000</td>\n",
              "      <td>0.000000</td>\n",
              "      <td>0.000000</td>\n",
              "      <td>0.000000</td>\n",
              "      <td>0.000000</td>\n",
              "      <td>1</td>\n",
              "    </tr>\n",
              "    <tr>\n",
              "      <th>6</th>\n",
              "      <td>як-7-8/392</td>\n",
              "      <td>88.135593</td>\n",
              "      <td>0.000000</td>\n",
              "      <td>0.000000</td>\n",
              "      <td>0.000000</td>\n",
              "      <td>0.000000</td>\n",
              "      <td>0.000000</td>\n",
              "      <td>0.000000</td>\n",
              "      <td>0.000000</td>\n",
              "      <td>0.000000</td>\n",
              "      <td>0.000000</td>\n",
              "      <td>1</td>\n",
              "    </tr>\n",
              "    <tr>\n",
              "      <th>7</th>\n",
              "      <td>як-7-6/488</td>\n",
              "      <td>89.795918</td>\n",
              "      <td>12.244898</td>\n",
              "      <td>2.040816</td>\n",
              "      <td>0.000000</td>\n",
              "      <td>0.000000</td>\n",
              "      <td>0.000000</td>\n",
              "      <td>0.000000</td>\n",
              "      <td>0.000000</td>\n",
              "      <td>0.000000</td>\n",
              "      <td>0.000000</td>\n",
              "      <td>1</td>\n",
              "    </tr>\n",
              "    <tr>\n",
              "      <th>8</th>\n",
              "      <td>як-7-1/9</td>\n",
              "      <td>90.163934</td>\n",
              "      <td>0.000000</td>\n",
              "      <td>0.000000</td>\n",
              "      <td>0.000000</td>\n",
              "      <td>0.000000</td>\n",
              "      <td>0.000000</td>\n",
              "      <td>0.000000</td>\n",
              "      <td>0.000000</td>\n",
              "      <td>0.000000</td>\n",
              "      <td>0.000000</td>\n",
              "      <td>1</td>\n",
              "    </tr>\n",
              "    <tr>\n",
              "      <th>9</th>\n",
              "      <td>яйцо</td>\n",
              "      <td>0.000000</td>\n",
              "      <td>8.823529</td>\n",
              "      <td>2.941177</td>\n",
              "      <td>0.000000</td>\n",
              "      <td>0.000000</td>\n",
              "      <td>2.941177</td>\n",
              "      <td>0.000000</td>\n",
              "      <td>0.000000</td>\n",
              "      <td>0.000000</td>\n",
              "      <td>2.941177</td>\n",
              "      <td>0</td>\n",
              "    </tr>\n",
              "  </tbody>\n",
              "</table>\n",
              "</div>"
            ],
            "text/plain": [
              "                   Query       CTR1       CTR2  ...      CTR9     CTR10  type\n",
              "0  ярмарка выходного дня  31.914894  17.021277  ...  8.510638  2.127660     0\n",
              "1                ярмарка  48.734177   6.329114  ...  2.531646  1.898734     0\n",
              "2                 яндекс   5.202312   2.890173  ...  0.000000  0.000000     0\n",
              "3                   янао  18.518518  11.111111  ...  0.000000  3.703704     0\n",
              "4                 якутия   6.666667   6.666667  ...  0.000000  0.000000     0\n",
              "5             як-7-8/393  98.850575   5.747126  ...  0.000000  0.000000     1\n",
              "6             як-7-8/392  88.135593   0.000000  ...  0.000000  0.000000     1\n",
              "7             як-7-6/488  89.795918  12.244898  ...  0.000000  0.000000     1\n",
              "8               як-7-1/9  90.163934   0.000000  ...  0.000000  0.000000     1\n",
              "9                   яйцо   0.000000   8.823529  ...  0.000000  2.941177     0\n",
              "\n",
              "[10 rows x 12 columns]"
            ]
          },
          "metadata": {
            "tags": []
          },
          "execution_count": 9
        }
      ]
    },
    {
      "cell_type": "code",
      "metadata": {
        "id": "8xV6InsrTiZL",
        "colab": {
          "base_uri": "https://localhost:8080/",
          "height": 294
        },
        "outputId": "b071c66b-a0e2-42d7-faad-37ffb47e0db1"
      },
      "source": [
        "nav = df[df['type']==1]\n",
        "nav.describe()"
      ],
      "execution_count": 10,
      "outputs": [
        {
          "output_type": "execute_result",
          "data": {
            "text/html": [
              "<div>\n",
              "<style scoped>\n",
              "    .dataframe tbody tr th:only-of-type {\n",
              "        vertical-align: middle;\n",
              "    }\n",
              "\n",
              "    .dataframe tbody tr th {\n",
              "        vertical-align: top;\n",
              "    }\n",
              "\n",
              "    .dataframe thead th {\n",
              "        text-align: right;\n",
              "    }\n",
              "</style>\n",
              "<table border=\"1\" class=\"dataframe\">\n",
              "  <thead>\n",
              "    <tr style=\"text-align: right;\">\n",
              "      <th></th>\n",
              "      <th>CTR1</th>\n",
              "      <th>CTR2</th>\n",
              "      <th>CTR3</th>\n",
              "      <th>CTR4</th>\n",
              "      <th>CTR5</th>\n",
              "      <th>CTR6</th>\n",
              "      <th>CTR7</th>\n",
              "      <th>CTR8</th>\n",
              "      <th>CTR9</th>\n",
              "      <th>CTR10</th>\n",
              "      <th>type</th>\n",
              "    </tr>\n",
              "  </thead>\n",
              "  <tbody>\n",
              "    <tr>\n",
              "      <th>count</th>\n",
              "      <td>18516.000000</td>\n",
              "      <td>18516.000000</td>\n",
              "      <td>18516.000000</td>\n",
              "      <td>18516.000000</td>\n",
              "      <td>18516.000000</td>\n",
              "      <td>18516.000000</td>\n",
              "      <td>18516.000000</td>\n",
              "      <td>18516.000000</td>\n",
              "      <td>18516.000000</td>\n",
              "      <td>18516.000000</td>\n",
              "      <td>18516.0</td>\n",
              "    </tr>\n",
              "    <tr>\n",
              "      <th>mean</th>\n",
              "      <td>62.118176</td>\n",
              "      <td>10.053368</td>\n",
              "      <td>4.015530</td>\n",
              "      <td>2.282475</td>\n",
              "      <td>1.449982</td>\n",
              "      <td>0.952245</td>\n",
              "      <td>0.704278</td>\n",
              "      <td>0.561368</td>\n",
              "      <td>0.460902</td>\n",
              "      <td>0.357346</td>\n",
              "      <td>1.0</td>\n",
              "    </tr>\n",
              "    <tr>\n",
              "      <th>std</th>\n",
              "      <td>31.520356</td>\n",
              "      <td>15.763503</td>\n",
              "      <td>8.746344</td>\n",
              "      <td>5.956451</td>\n",
              "      <td>4.317837</td>\n",
              "      <td>3.113885</td>\n",
              "      <td>2.381145</td>\n",
              "      <td>2.164518</td>\n",
              "      <td>1.891946</td>\n",
              "      <td>1.639229</td>\n",
              "      <td>0.0</td>\n",
              "    </tr>\n",
              "    <tr>\n",
              "      <th>min</th>\n",
              "      <td>0.000000</td>\n",
              "      <td>0.000000</td>\n",
              "      <td>0.000000</td>\n",
              "      <td>0.000000</td>\n",
              "      <td>0.000000</td>\n",
              "      <td>0.000000</td>\n",
              "      <td>0.000000</td>\n",
              "      <td>0.000000</td>\n",
              "      <td>0.000000</td>\n",
              "      <td>0.000000</td>\n",
              "      <td>1.0</td>\n",
              "    </tr>\n",
              "    <tr>\n",
              "      <th>25%</th>\n",
              "      <td>35.714286</td>\n",
              "      <td>0.621118</td>\n",
              "      <td>0.000000</td>\n",
              "      <td>0.000000</td>\n",
              "      <td>0.000000</td>\n",
              "      <td>0.000000</td>\n",
              "      <td>0.000000</td>\n",
              "      <td>0.000000</td>\n",
              "      <td>0.000000</td>\n",
              "      <td>0.000000</td>\n",
              "      <td>1.0</td>\n",
              "    </tr>\n",
              "    <tr>\n",
              "      <th>50%</th>\n",
              "      <td>76.470588</td>\n",
              "      <td>3.448276</td>\n",
              "      <td>0.973236</td>\n",
              "      <td>0.000000</td>\n",
              "      <td>0.000000</td>\n",
              "      <td>0.000000</td>\n",
              "      <td>0.000000</td>\n",
              "      <td>0.000000</td>\n",
              "      <td>0.000000</td>\n",
              "      <td>0.000000</td>\n",
              "      <td>1.0</td>\n",
              "    </tr>\n",
              "    <tr>\n",
              "      <th>75%</th>\n",
              "      <td>87.779898</td>\n",
              "      <td>11.475410</td>\n",
              "      <td>3.660133</td>\n",
              "      <td>2.186390</td>\n",
              "      <td>1.333333</td>\n",
              "      <td>0.636943</td>\n",
              "      <td>0.159968</td>\n",
              "      <td>0.000000</td>\n",
              "      <td>0.000000</td>\n",
              "      <td>0.000000</td>\n",
              "      <td>1.0</td>\n",
              "    </tr>\n",
              "    <tr>\n",
              "      <th>max</th>\n",
              "      <td>100.000000</td>\n",
              "      <td>94.736842</td>\n",
              "      <td>85.365854</td>\n",
              "      <td>79.310345</td>\n",
              "      <td>91.176471</td>\n",
              "      <td>76.923077</td>\n",
              "      <td>58.064516</td>\n",
              "      <td>61.036036</td>\n",
              "      <td>56.250000</td>\n",
              "      <td>62.794918</td>\n",
              "      <td>1.0</td>\n",
              "    </tr>\n",
              "  </tbody>\n",
              "</table>\n",
              "</div>"
            ],
            "text/plain": [
              "               CTR1          CTR2  ...         CTR10     type\n",
              "count  18516.000000  18516.000000  ...  18516.000000  18516.0\n",
              "mean      62.118176     10.053368  ...      0.357346      1.0\n",
              "std       31.520356     15.763503  ...      1.639229      0.0\n",
              "min        0.000000      0.000000  ...      0.000000      1.0\n",
              "25%       35.714286      0.621118  ...      0.000000      1.0\n",
              "50%       76.470588      3.448276  ...      0.000000      1.0\n",
              "75%       87.779898     11.475410  ...      0.000000      1.0\n",
              "max      100.000000     94.736842  ...     62.794918      1.0\n",
              "\n",
              "[8 rows x 11 columns]"
            ]
          },
          "metadata": {
            "tags": []
          },
          "execution_count": 10
        }
      ]
    },
    {
      "cell_type": "code",
      "metadata": {
        "colab": {
          "base_uri": "https://localhost:8080/",
          "height": 294
        },
        "id": "vzmFY2ARanWt",
        "outputId": "6abebc50-1419-4359-a11b-3c769a39d77f"
      },
      "source": [
        "nonav = df[df['type']==0]\n",
        "nonav.describe()"
      ],
      "execution_count": 11,
      "outputs": [
        {
          "output_type": "execute_result",
          "data": {
            "text/html": [
              "<div>\n",
              "<style scoped>\n",
              "    .dataframe tbody tr th:only-of-type {\n",
              "        vertical-align: middle;\n",
              "    }\n",
              "\n",
              "    .dataframe tbody tr th {\n",
              "        vertical-align: top;\n",
              "    }\n",
              "\n",
              "    .dataframe thead th {\n",
              "        text-align: right;\n",
              "    }\n",
              "</style>\n",
              "<table border=\"1\" class=\"dataframe\">\n",
              "  <thead>\n",
              "    <tr style=\"text-align: right;\">\n",
              "      <th></th>\n",
              "      <th>CTR1</th>\n",
              "      <th>CTR2</th>\n",
              "      <th>CTR3</th>\n",
              "      <th>CTR4</th>\n",
              "      <th>CTR5</th>\n",
              "      <th>CTR6</th>\n",
              "      <th>CTR7</th>\n",
              "      <th>CTR8</th>\n",
              "      <th>CTR9</th>\n",
              "      <th>CTR10</th>\n",
              "      <th>type</th>\n",
              "    </tr>\n",
              "  </thead>\n",
              "  <tbody>\n",
              "    <tr>\n",
              "      <th>count</th>\n",
              "      <td>34765.000000</td>\n",
              "      <td>34765.000000</td>\n",
              "      <td>34765.000000</td>\n",
              "      <td>34765.000000</td>\n",
              "      <td>34765.000000</td>\n",
              "      <td>34765.000000</td>\n",
              "      <td>34765.000000</td>\n",
              "      <td>34765.000000</td>\n",
              "      <td>34765.000000</td>\n",
              "      <td>34765.000000</td>\n",
              "      <td>34765.0</td>\n",
              "    </tr>\n",
              "    <tr>\n",
              "      <th>mean</th>\n",
              "      <td>41.929730</td>\n",
              "      <td>19.946146</td>\n",
              "      <td>12.293593</td>\n",
              "      <td>9.007227</td>\n",
              "      <td>6.897645</td>\n",
              "      <td>5.510180</td>\n",
              "      <td>4.573671</td>\n",
              "      <td>3.728668</td>\n",
              "      <td>3.104318</td>\n",
              "      <td>2.624775</td>\n",
              "      <td>0.0</td>\n",
              "    </tr>\n",
              "    <tr>\n",
              "      <th>std</th>\n",
              "      <td>21.283371</td>\n",
              "      <td>14.164593</td>\n",
              "      <td>10.001505</td>\n",
              "      <td>7.711993</td>\n",
              "      <td>6.206948</td>\n",
              "      <td>5.175028</td>\n",
              "      <td>4.479088</td>\n",
              "      <td>3.793472</td>\n",
              "      <td>3.355311</td>\n",
              "      <td>2.930101</td>\n",
              "      <td>0.0</td>\n",
              "    </tr>\n",
              "    <tr>\n",
              "      <th>min</th>\n",
              "      <td>0.000000</td>\n",
              "      <td>0.000000</td>\n",
              "      <td>0.000000</td>\n",
              "      <td>0.000000</td>\n",
              "      <td>0.000000</td>\n",
              "      <td>0.000000</td>\n",
              "      <td>0.000000</td>\n",
              "      <td>0.000000</td>\n",
              "      <td>0.000000</td>\n",
              "      <td>0.000000</td>\n",
              "      <td>0.0</td>\n",
              "    </tr>\n",
              "    <tr>\n",
              "      <th>25%</th>\n",
              "      <td>25.510204</td>\n",
              "      <td>8.823529</td>\n",
              "      <td>4.761905</td>\n",
              "      <td>3.225807</td>\n",
              "      <td>2.439024</td>\n",
              "      <td>1.851852</td>\n",
              "      <td>1.424501</td>\n",
              "      <td>0.862069</td>\n",
              "      <td>0.000000</td>\n",
              "      <td>0.000000</td>\n",
              "      <td>0.0</td>\n",
              "    </tr>\n",
              "    <tr>\n",
              "      <th>50%</th>\n",
              "      <td>42.206016</td>\n",
              "      <td>17.647059</td>\n",
              "      <td>10.000000</td>\n",
              "      <td>7.142857</td>\n",
              "      <td>5.454546</td>\n",
              "      <td>4.225352</td>\n",
              "      <td>3.333333</td>\n",
              "      <td>2.816901</td>\n",
              "      <td>2.352941</td>\n",
              "      <td>1.986755</td>\n",
              "      <td>0.0</td>\n",
              "    </tr>\n",
              "    <tr>\n",
              "      <th>75%</th>\n",
              "      <td>57.575758</td>\n",
              "      <td>28.358209</td>\n",
              "      <td>17.500000</td>\n",
              "      <td>12.765957</td>\n",
              "      <td>9.782609</td>\n",
              "      <td>7.920792</td>\n",
              "      <td>6.557377</td>\n",
              "      <td>5.426357</td>\n",
              "      <td>4.545454</td>\n",
              "      <td>3.773585</td>\n",
              "      <td>0.0</td>\n",
              "    </tr>\n",
              "    <tr>\n",
              "      <th>max</th>\n",
              "      <td>100.000000</td>\n",
              "      <td>90.196078</td>\n",
              "      <td>86.486486</td>\n",
              "      <td>73.426573</td>\n",
              "      <td>69.849246</td>\n",
              "      <td>67.105263</td>\n",
              "      <td>56.603774</td>\n",
              "      <td>37.931034</td>\n",
              "      <td>52.000000</td>\n",
              "      <td>39.024390</td>\n",
              "      <td>0.0</td>\n",
              "    </tr>\n",
              "  </tbody>\n",
              "</table>\n",
              "</div>"
            ],
            "text/plain": [
              "               CTR1          CTR2  ...         CTR10     type\n",
              "count  34765.000000  34765.000000  ...  34765.000000  34765.0\n",
              "mean      41.929730     19.946146  ...      2.624775      0.0\n",
              "std       21.283371     14.164593  ...      2.930101      0.0\n",
              "min        0.000000      0.000000  ...      0.000000      0.0\n",
              "25%       25.510204      8.823529  ...      0.000000      0.0\n",
              "50%       42.206016     17.647059  ...      1.986755      0.0\n",
              "75%       57.575758     28.358209  ...      3.773585      0.0\n",
              "max      100.000000     90.196078  ...     39.024390      0.0\n",
              "\n",
              "[8 rows x 11 columns]"
            ]
          },
          "metadata": {
            "tags": []
          },
          "execution_count": 11
        }
      ]
    },
    {
      "cell_type": "code",
      "metadata": {
        "colab": {
          "base_uri": "https://localhost:8080/",
          "height": 623
        },
        "id": "MQmGjDlhh0As",
        "outputId": "e0ccdfd6-6d1e-4ecc-dcb6-0c3911a9e32b"
      },
      "source": [
        "plt.figure(figsize=(15,10))\n",
        "\n",
        "plt.subplot(2, 2, 1)\n",
        "plt.ylim(0, 80) \n",
        "nav.iloc[:,1:11].mean().plot().set_title('nav - mean')\n",
        "\n",
        "plt.subplot(2, 2, 2) \n",
        "plt.ylim(0, 80) \n",
        "nonav.iloc[:,1:11].mean().plot().set_title('nonav - mean')\n",
        "\n",
        "plt.subplot(2, 2, 3) \n",
        "plt.ylim(0, 80) \n",
        "nav.iloc[:,1:11].median().plot().set_title('nav - median')\n",
        "\n",
        "plt.subplot(2, 2, 4)\n",
        "plt.ylim(0, 80)  \n",
        "nonav.iloc[:,1:11].median().plot().set_title('nonav - median')"
      ],
      "execution_count": 12,
      "outputs": [
        {
          "output_type": "execute_result",
          "data": {
            "text/plain": [
              "Text(0.5, 1.0, 'nonav - median')"
            ]
          },
          "metadata": {
            "tags": []
          },
          "execution_count": 12
        },
        {
          "output_type": "display_data",
          "data": {
            "image/png": "[encoded data removed]",
            "text/plain": [
              "<Figure size 1080x720 with 4 Axes>"
            ]
          },
          "metadata": {
            "tags": [],
            "needs_background": "light"
          }
        }
      ]
    },
    {
      "cell_type": "code",
      "metadata": {
        "id": "YK_3JroQI6y8"
      },
      "source": [
        "def histogramm(nav, nonav):\n",
        "  nav.hist(alpha = 0.5, bins = 50, color = 'red')\n",
        "  nonav.hist(alpha = 0.5, bins = 50, color = 'blue')\n",
        "  plt.axvline(nav.mean(), color = 'red', linestyle = 'dashed')\n",
        "  plt.axvline(nonav.mean(), color = 'blue', linestyle = 'dashed')"
      ],
      "execution_count": 13,
      "outputs": []
    },
    {
      "cell_type": "code",
      "metadata": {
        "id": "coPOp7VMEL7q"
      },
      "source": [
        "def density(nav, nonav):\n",
        "  nav.plot(kind='density', alpha = 0.5, color = 'red')\n",
        "  nonav.plot(kind='density', alpha = 0.5, color = 'blue')\n",
        "  plt.axvline(nav.median(), color = 'red', linestyle = 'dashed')\n",
        "  plt.axvline(nonav.median(), color = 'blue', linestyle = 'dashed')"
      ],
      "execution_count": 14,
      "outputs": []
    },
    {
      "cell_type": "code",
      "metadata": {
        "colab": {
          "base_uri": "https://localhost:8080/",
          "height": 1000
        },
        "id": "KGSAnktQE3Jo",
        "outputId": "2deead29-65a8-429e-ab05-40918ba898de"
      },
      "source": [
        "cnt = 1\n",
        "for i in nav.columns[1:11]:\n",
        "  plt.figure(figsize=(40,20))\n",
        "  plt.subplot(5, 2, cnt)\n",
        "  density(nav[i], nonav[i])\n",
        "  plt.title(i)\n",
        "  cnt += 1"
      ],
      "execution_count": 15,
      "outputs": [
        {
          "output_type": "display_data",
          "data": {
            "image/png": "[encoded data removed]",
            "text/plain": [
              "<Figure size 2880x1440 with 1 Axes>"
            ]
          },
          "metadata": {
            "tags": [],
            "needs_background": "light"
          }
        },
        {
          "output_type": "display_data",
          "data": {
            "image/png": "[encoded data removed]",
            "text/plain": [
              "<Figure size 2880x1440 with 1 Axes>"
            ]
          },
          "metadata": {
            "tags": [],
            "needs_background": "light"
          }
        },
        {
          "output_type": "display_data",
          "data": {
            "image/png": "[encoded data removed]",
            "text/plain": [
              "<Figure size 2880x1440 with 1 Axes>"
            ]
          },
          "metadata": {
            "tags": [],
            "needs_background": "light"
          }
        },
        {
          "output_type": "display_data",
          "data": {
            "image/png": "[encoded data removed]",
            "text/plain": [
              "<Figure size 2880x1440 with 1 Axes>"
            ]
          },
          "metadata": {
            "tags": [],
            "needs_background": "light"
          }
        },
        {
          "output_type": "display_data",
          "data": {
            "image/png": "[encoded data removed]",
            "text/plain": [
              "<Figure size 2880x1440 with 1 Axes>"
            ]
          },
          "metadata": {
            "tags": [],
            "needs_background": "light"
          }
        },
        {
          "output_type": "display_data",
          "data": {
            "image/png": "[encoded data removed]",
            "text/plain": [
              "<Figure size 2880x1440 with 1 Axes>"
            ]
          },
          "metadata": {
            "tags": [],
            "needs_background": "light"
          }
        },
        {
          "output_type": "display_data",
          "data": {
            "image/png": "[encoded data removed]",
            "text/plain": [
              "<Figure size 2880x1440 with 1 Axes>"
            ]
          },
          "metadata": {
            "tags": [],
            "needs_background": "light"
          }
        },
        {
          "output_type": "display_data",
          "data": {
            "image/png": "[encoded data removed]",
            "text/plain": [
              "<Figure size 2880x1440 with 1 Axes>"
            ]
          },
          "metadata": {
            "tags": [],
            "needs_background": "light"
          }
        },
        {
          "output_type": "display_data",
          "data": {
            "image/png": "[encoded data removed]",
            "text/plain": [
              "<Figure size 2880x1440 with 1 Axes>"
            ]
          },
          "metadata": {
            "tags": [],
            "needs_background": "light"
          }
        },
        {
          "output_type": "display_data",
          "data": {
            "image/png": "[encoded data removed]",
            "text/plain": [
              "<Figure size 2880x1440 with 1 Axes>"
            ]
          },
          "metadata": {
            "tags": [],
            "needs_background": "light"
          }
        }
      ]
    },
    {
      "cell_type": "markdown",
      "metadata": {
        "id": "OA9XlrVZj7eP"
      },
      "source": [
        "Исходя из вышеприведенных графиков, можем сделать вывод о том, что у навигационных запросов кликабельность первого документа заметно более высокая, чем у ненавигационных. После второй позиции CTR очень низок.\n",
        "\n",
        "В частности, предположим, что у навигационных запросов кликабельность первого документа больше кликабельности всех оставшихся документов из TOP-10 вместе взятых. \n",
        "\n",
        "Проверим классификацию запросов по этому признаку.\n"
      ]
    },
    {
      "cell_type": "markdown",
      "metadata": {
        "id": "BYCw8rOXUg3x"
      },
      "source": [
        "В качестве метрики выбран ***f1_score***"
      ]
    },
    {
      "cell_type": "code",
      "metadata": {
        "id": "0Za7kL7CCmzN"
      },
      "source": [
        "def check_CTR1(ctr1, ctr_sum, cnt):\n",
        "  if ctr1 > cnt*ctr_sum:\n",
        "    return 1\n",
        "  else:\n",
        "    return 0"
      ],
      "execution_count": 16,
      "outputs": []
    },
    {
      "cell_type": "code",
      "metadata": {
        "colab": {
          "base_uri": "https://localhost:8080/",
          "height": 202
        },
        "id": "Yd16IWAiADKJ",
        "outputId": "b295afd6-a537-4ec3-8926-a40e5ea118e4"
      },
      "source": [
        "temp = df.copy()\n",
        "temp['rate'] = temp.apply(lambda row: check_CTR1(row[1],  row.iloc[2:11].sum(), 1), axis=1)\n",
        "temp.head()"
      ],
      "execution_count": 17,
      "outputs": [
        {
          "output_type": "execute_result",
          "data": {
            "text/html": [
              "<div>\n",
              "<style scoped>\n",
              "    .dataframe tbody tr th:only-of-type {\n",
              "        vertical-align: middle;\n",
              "    }\n",
              "\n",
              "    .dataframe tbody tr th {\n",
              "        vertical-align: top;\n",
              "    }\n",
              "\n",
              "    .dataframe thead th {\n",
              "        text-align: right;\n",
              "    }\n",
              "</style>\n",
              "<table border=\"1\" class=\"dataframe\">\n",
              "  <thead>\n",
              "    <tr style=\"text-align: right;\">\n",
              "      <th></th>\n",
              "      <th>Query</th>\n",
              "      <th>CTR1</th>\n",
              "      <th>CTR2</th>\n",
              "      <th>CTR3</th>\n",
              "      <th>CTR4</th>\n",
              "      <th>CTR5</th>\n",
              "      <th>CTR6</th>\n",
              "      <th>CTR7</th>\n",
              "      <th>CTR8</th>\n",
              "      <th>CTR9</th>\n",
              "      <th>CTR10</th>\n",
              "      <th>type</th>\n",
              "      <th>rate</th>\n",
              "    </tr>\n",
              "  </thead>\n",
              "  <tbody>\n",
              "    <tr>\n",
              "      <th>0</th>\n",
              "      <td>ярмарка выходного дня</td>\n",
              "      <td>31.914894</td>\n",
              "      <td>17.021277</td>\n",
              "      <td>8.510638</td>\n",
              "      <td>10.638298</td>\n",
              "      <td>2.127660</td>\n",
              "      <td>10.638298</td>\n",
              "      <td>6.382979</td>\n",
              "      <td>10.638298</td>\n",
              "      <td>8.510638</td>\n",
              "      <td>2.127660</td>\n",
              "      <td>0</td>\n",
              "      <td>0</td>\n",
              "    </tr>\n",
              "    <tr>\n",
              "      <th>1</th>\n",
              "      <td>ярмарка</td>\n",
              "      <td>48.734177</td>\n",
              "      <td>6.329114</td>\n",
              "      <td>13.924051</td>\n",
              "      <td>10.759494</td>\n",
              "      <td>9.493671</td>\n",
              "      <td>6.329114</td>\n",
              "      <td>9.493671</td>\n",
              "      <td>6.329114</td>\n",
              "      <td>2.531646</td>\n",
              "      <td>1.898734</td>\n",
              "      <td>0</td>\n",
              "      <td>0</td>\n",
              "    </tr>\n",
              "    <tr>\n",
              "      <th>2</th>\n",
              "      <td>яндекс</td>\n",
              "      <td>5.202312</td>\n",
              "      <td>2.890173</td>\n",
              "      <td>1.156069</td>\n",
              "      <td>1.734104</td>\n",
              "      <td>0.578035</td>\n",
              "      <td>0.000000</td>\n",
              "      <td>0.578035</td>\n",
              "      <td>0.578035</td>\n",
              "      <td>0.000000</td>\n",
              "      <td>0.000000</td>\n",
              "      <td>0</td>\n",
              "      <td>0</td>\n",
              "    </tr>\n",
              "    <tr>\n",
              "      <th>3</th>\n",
              "      <td>янао</td>\n",
              "      <td>18.518518</td>\n",
              "      <td>11.111111</td>\n",
              "      <td>18.518518</td>\n",
              "      <td>11.111111</td>\n",
              "      <td>11.111111</td>\n",
              "      <td>7.407407</td>\n",
              "      <td>0.000000</td>\n",
              "      <td>0.000000</td>\n",
              "      <td>0.000000</td>\n",
              "      <td>3.703704</td>\n",
              "      <td>0</td>\n",
              "      <td>0</td>\n",
              "    </tr>\n",
              "    <tr>\n",
              "      <th>4</th>\n",
              "      <td>якутия</td>\n",
              "      <td>6.666667</td>\n",
              "      <td>6.666667</td>\n",
              "      <td>3.333333</td>\n",
              "      <td>3.333333</td>\n",
              "      <td>0.000000</td>\n",
              "      <td>3.333333</td>\n",
              "      <td>3.333333</td>\n",
              "      <td>3.333333</td>\n",
              "      <td>0.000000</td>\n",
              "      <td>0.000000</td>\n",
              "      <td>0</td>\n",
              "      <td>0</td>\n",
              "    </tr>\n",
              "  </tbody>\n",
              "</table>\n",
              "</div>"
            ],
            "text/plain": [
              "                   Query       CTR1       CTR2  ...     CTR10  type  rate\n",
              "0  ярмарка выходного дня  31.914894  17.021277  ...  2.127660     0     0\n",
              "1                ярмарка  48.734177   6.329114  ...  1.898734     0     0\n",
              "2                 яндекс   5.202312   2.890173  ...  0.000000     0     0\n",
              "3                   янао  18.518518  11.111111  ...  3.703704     0     0\n",
              "4                 якутия   6.666667   6.666667  ...  0.000000     0     0\n",
              "\n",
              "[5 rows x 13 columns]"
            ]
          },
          "metadata": {
            "tags": []
          },
          "execution_count": 17
        }
      ]
    },
    {
      "cell_type": "code",
      "metadata": {
        "colab": {
          "base_uri": "https://localhost:8080/"
        },
        "id": "jr6FWrj4cczc",
        "outputId": "711ae59a-0e10-4232-97c6-2c123c5c61d1"
      },
      "source": [
        "np.mean(temp['type']==temp['rate'])"
      ],
      "execution_count": 18,
      "outputs": [
        {
          "output_type": "execute_result",
          "data": {
            "text/plain": [
              "0.7430791464124172"
            ]
          },
          "metadata": {
            "tags": []
          },
          "execution_count": 18
        }
      ]
    },
    {
      "cell_type": "code",
      "metadata": {
        "colab": {
          "base_uri": "https://localhost:8080/"
        },
        "id": "J2wktUTYUyTB",
        "outputId": "95f3b38c-ec56-4db9-fbbb-fb025d690462"
      },
      "source": [
        "f1_score(temp['type'],temp['rate'])"
      ],
      "execution_count": 19,
      "outputs": [
        {
          "output_type": "execute_result",
          "data": {
            "text/plain": [
              "0.6694356571925333"
            ]
          },
          "metadata": {
            "tags": []
          },
          "execution_count": 19
        }
      ]
    },
    {
      "cell_type": "markdown",
      "metadata": {
        "id": "ekqppGHYcYMB"
      },
      "source": [
        "Если предположить, что у навигационных запросов CTR1 больше удвоенной суммы, то результат несколько лучше."
      ]
    },
    {
      "cell_type": "code",
      "metadata": {
        "id": "7NYlIQDiZEzj",
        "colab": {
          "base_uri": "https://localhost:8080/"
        },
        "outputId": "c5ebf4d6-e7be-41b0-c714-8f16101fac95"
      },
      "source": [
        "temp['rate2'] = temp.apply(lambda row: check_CTR1(row[1],  row.iloc[2:11].sum(), 2), axis=1)\n",
        "np.mean(temp['type']==temp['rate2'])"
      ],
      "execution_count": 20,
      "outputs": [
        {
          "output_type": "execute_result",
          "data": {
            "text/plain": [
              "0.8179088230326007"
            ]
          },
          "metadata": {
            "tags": []
          },
          "execution_count": 20
        }
      ]
    },
    {
      "cell_type": "code",
      "metadata": {
        "colab": {
          "base_uri": "https://localhost:8080/"
        },
        "id": "_2JkekmJU8wp",
        "outputId": "cd9013b4-8117-4738-ca4c-9c41a44b2585"
      },
      "source": [
        "f1_score(temp['type'],temp['rate2'])"
      ],
      "execution_count": 21,
      "outputs": [
        {
          "output_type": "execute_result",
          "data": {
            "text/plain": [
              "0.7176203504278478"
            ]
          },
          "metadata": {
            "tags": []
          },
          "execution_count": 21
        }
      ]
    },
    {
      "cell_type": "code",
      "metadata": {
        "colab": {
          "base_uri": "https://localhost:8080/"
        },
        "id": "lVBMaWVW1clc",
        "outputId": "fa7c1402-6ca3-4fbe-fd26-e3ca2043a50b"
      },
      "source": [
        "temp['rate3'] = temp.apply(lambda row: check_CTR1(row[1],  row.iloc[2:11].sum(), 3), axis=1)\n",
        "np.mean(temp['type']==temp['rate3'])"
      ],
      "execution_count": 22,
      "outputs": [
        {
          "output_type": "execute_result",
          "data": {
            "text/plain": [
              "0.8274619470355287"
            ]
          },
          "metadata": {
            "tags": []
          },
          "execution_count": 22
        }
      ]
    },
    {
      "cell_type": "code",
      "metadata": {
        "colab": {
          "base_uri": "https://localhost:8080/"
        },
        "id": "pEmqTtaxU_SK",
        "outputId": "51fee431-be96-4afa-d0f4-0539325b2748"
      },
      "source": [
        "f1_score(temp['type'],temp['rate3'])"
      ],
      "execution_count": 23,
      "outputs": [
        {
          "output_type": "execute_result",
          "data": {
            "text/plain": [
              "0.7131400755140886"
            ]
          },
          "metadata": {
            "tags": []
          },
          "execution_count": 23
        }
      ]
    },
    {
      "cell_type": "markdown",
      "metadata": {
        "id": "Mwt57dSp4atq"
      },
      "source": [
        "Можем заметить, что такой показатель, как CTR1 > 2*CTR_sum дает лучший результат по f1_score"
      ]
    },
    {
      "cell_type": "markdown",
      "metadata": {
        "id": "8IQBGsFuVhpE"
      },
      "source": [
        "В качестве признака в основную таблицу добавим отношение CTR1 к сумме CTR и отношение максимального  CTR к сумме CTR"
      ]
    },
    {
      "cell_type": "code",
      "metadata": {
        "id": "EJrVwu5QSISR"
      },
      "source": [
        "def CTR1_feature(ctr1, ctr_sum):\n",
        "  if ctr_sum != 0:\n",
        "    return ctr1/ctr_sum\n",
        "  else:\n",
        "    return 0"
      ],
      "execution_count": 24,
      "outputs": []
    },
    {
      "cell_type": "code",
      "metadata": {
        "id": "QOiWwJleVxD3"
      },
      "source": [
        "df['rate_CTR1'] = df.apply(lambda row: CTR1_feature(row[1],  row.iloc[1:11].sum()), axis=1)\n",
        "df['rate_CTR_MAX'] = df.apply(lambda row: CTR1_feature(row.iloc[1:11].max(),  row.iloc[1:11].sum()), axis=1)"
      ],
      "execution_count": 25,
      "outputs": []
    },
    {
      "cell_type": "code",
      "metadata": {
        "colab": {
          "base_uri": "https://localhost:8080/",
          "height": 265
        },
        "id": "TZsZF6YXVbld",
        "outputId": "76010b2e-d223-4be8-a736-508520e89440"
      },
      "source": [
        "histogramm(df[df['type']==1]['rate_CTR1'],df[df['type']==0]['rate_CTR1'])"
      ],
      "execution_count": 26,
      "outputs": [
        {
          "output_type": "display_data",
          "data": {
            "image/png": "[encoded data removed]",
            "text/plain": [
              "<Figure size 432x288 with 1 Axes>"
            ]
          },
          "metadata": {
            "tags": [],
            "needs_background": "light"
          }
        }
      ]
    },
    {
      "cell_type": "code",
      "metadata": {
        "colab": {
          "base_uri": "https://localhost:8080/",
          "height": 265
        },
        "id": "XpMqKGu0W588",
        "outputId": "2cfe1c4a-4188-480c-bec9-bc8603fcba22"
      },
      "source": [
        "histogramm(df[df['type']==1]['rate_CTR_MAX'],df[df['type']==0]['rate_CTR_MAX'])"
      ],
      "execution_count": 27,
      "outputs": [
        {
          "output_type": "display_data",
          "data": {
            "image/png": "[encoded data removed]",
            "text/plain": [
              "<Figure size 432x288 with 1 Axes>"
            ]
          },
          "metadata": {
            "tags": [],
            "needs_background": "light"
          }
        }
      ]
    },
    {
      "cell_type": "markdown",
      "metadata": {
        "id": "UuI7P76p5KQv"
      },
      "source": [
        "Таким образом, если в качестве порога взять среднее значение rate_CTR1 или rate_CTR_MAX навигационных запросов, можно неплохо разделить классы"
      ]
    },
    {
      "cell_type": "code",
      "metadata": {
        "id": "iQVF4Xk2dRZh"
      },
      "source": [
        "def border_CTR(ctr, border):\n",
        "  if ctr > border:\n",
        "    return 1\n",
        "  else:\n",
        "    return 0"
      ],
      "execution_count": 28,
      "outputs": []
    },
    {
      "cell_type": "code",
      "metadata": {
        "id": "7bA96oC4izCK"
      },
      "source": [
        "temp = df.copy()\n",
        "rate_CTR1_mean = temp[temp['type']==1]['rate_CTR1'].mean()\n",
        "rate_CTR_MAX_mean = temp[temp['type']==1]['rate_CTR_MAX'].mean()"
      ],
      "execution_count": 29,
      "outputs": []
    },
    {
      "cell_type": "code",
      "metadata": {
        "colab": {
          "base_uri": "https://localhost:8080/"
        },
        "id": "rT92I4HyeiFI",
        "outputId": "81993309-e13a-402e-e628-cd2206b728b4"
      },
      "source": [
        "temp['ctr1_border'] = temp.apply(lambda x: border_CTR(x['rate_CTR1'],  rate_CTR1_mean), axis=1)\n",
        "f1_score(temp['type'],temp['ctr1_border'])"
      ],
      "execution_count": 30,
      "outputs": [
        {
          "output_type": "execute_result",
          "data": {
            "text/plain": [
              "0.7189197390380823"
            ]
          },
          "metadata": {
            "tags": []
          },
          "execution_count": 30
        }
      ]
    },
    {
      "cell_type": "code",
      "metadata": {
        "colab": {
          "base_uri": "https://localhost:8080/"
        },
        "id": "WiwW8ePTjIJa",
        "outputId": "478ac55e-86a9-42d0-99f6-debb840815cb"
      },
      "source": [
        "temp['ctr_max_border'] = temp.apply(lambda x: border_CTR(x['rate_CTR_MAX'],  rate_CTR_MAX_mean), axis=1)\n",
        "f1_score(temp['type'],temp['ctr_max_border'])"
      ],
      "execution_count": 31,
      "outputs": [
        {
          "output_type": "execute_result",
          "data": {
            "text/plain": [
              "0.7205238799861474"
            ]
          },
          "metadata": {
            "tags": []
          },
          "execution_count": 31
        }
      ]
    },
    {
      "cell_type": "markdown",
      "metadata": {
        "id": "DHICNz4HyUAu"
      },
      "source": [
        "Можем сделать вывод, что ***rate_CTR_MAX*** имеет лучшую разделяющую способность"
      ]
    },
    {
      "cell_type": "markdown",
      "metadata": {
        "id": "Qz0IFN2SAAff"
      },
      "source": [
        "## CTR_docs"
      ]
    },
    {
      "cell_type": "markdown",
      "metadata": {
        "id": "pqOVvW4NAInY"
      },
      "source": [
        "Основные идеи и предположения:\n",
        "\n",
        "1.   Документы, соответстующие многим запросам, являются \"общими\", то есть не совсем навигационными, поэтому при запросе стоит обратить на документы, которые являются в какой-то степени уникальными \n",
        "\n",
        "2. Документ, максимально соответствующий запросу, должен иметь большое число показов и высокий CTR\n",
        "\n",
        "3. Для каждого документа можно посчитать степень его навигационности как отношение количества кликов на документ d при запросе q к суммарному количеству кликов по запросу q"
      ]
    },
    {
      "cell_type": "markdown",
      "metadata": {
        "id": "HaXG_1xZbxN2"
      },
      "source": [
        "\n",
        "\n",
        "В качестве новых признаков добавим:\n",
        "\n",
        "*   ***Query_num*** - количество уникальных запросов для документа d\n",
        "*   ***doc_num*** - количество документов по запросу q\n",
        "*   ***doq_unique_N*** - количество документов, у которых уникальных запросов не больше N\n",
        "*   ***max_CTR_quantile_Q*** - максимальное значение CTR среди документов, где число показов больше Q-го перцентиля\n",
        "\n",
        "*   ***Nav_extent_MAX*** - максимальное отношение $np.log(Click)/np.log(Click_q)$ для запроса q\n",
        "\n",
        "где:\n",
        "*   *Click* - количество кликов на документ d в запросе q\n",
        "*   *Click_q* - количество кликов по запросу q\n",
        "\n",
        "\n",
        "\n",
        "\n",
        "\n",
        "\n",
        "\n",
        "\n",
        "\n",
        "\n",
        "\n",
        "\n",
        "\n",
        "\n"
      ]
    },
    {
      "cell_type": "code",
      "metadata": {
        "id": "_TJESewOItdA"
      },
      "source": [
        "CTR_docs['Click'] = CTR_docs['Число показов']*CTR_docs['CTR документа']/100 \n",
        "CTR_docs['Click_q'] = CTR_docs.groupby('Query')['Click'].transform('sum')\n",
        "CTR_docs['Query_num'] = CTR_docs.groupby('ID документа')['Query'].transform('nunique')\n",
        "CTR_docs['doc_num'] = CTR_docs.groupby('Query')['ID документа'].transform('count')"
      ],
      "execution_count": 32,
      "outputs": []
    },
    {
      "cell_type": "code",
      "metadata": {
        "id": "BddO9DyfLXIq"
      },
      "source": [
        "CTR_docs = CTR_docs.merge(CTR_docs[CTR_docs['Query_num'] < 7].groupby('Query')['ID документа'].count(), on= 'Query', how='left').rename(columns = {'ID документа_x': 'ID документа', 'ID документа_y': 'doc_unique_7'})\n",
        "CTR_docs = CTR_docs.merge(CTR_docs[CTR_docs['Query_num'] < 5].groupby('Query')['ID документа'].count(), on= 'Query', how='left').rename(columns = {'ID документа_x': 'ID документа', 'ID документа_y': 'doc_unique_5'})\n",
        "CTR_docs = CTR_docs.merge(CTR_docs[CTR_docs['Query_num'] < 3].groupby('Query')['ID документа'].count(), on= 'Query', how='left').rename(columns = {'ID документа_x': 'ID документа', 'ID документа_y': 'doc_unique_3'})"
      ],
      "execution_count": 33,
      "outputs": []
    },
    {
      "cell_type": "code",
      "metadata": {
        "id": "d1rpAnJiYeQE"
      },
      "source": [
        "CTR_docs = CTR_docs.merge(CTR_docs.groupby('Query')['Число показов'].quantile(0.1), on= 'Query', how= 'left').rename(columns = {'Число показов_x': 'Число показов', 'Число показов_y': 'quantile_0.1'})\n",
        "CTR_docs = CTR_docs.merge(CTR_docs[CTR_docs['Число показов'] > CTR_docs['quantile_0.1']].groupby('Query')['CTR документа'].max(), on= 'Query', how='left').rename(columns = {'CTR документа_x': 'CTR документа', 'CTR документа_y': 'max_CTR_quantile_0.1'})\n",
        "\n",
        "CTR_docs = CTR_docs.merge(CTR_docs.groupby('Query')['Число показов'].quantile(0.25), on= 'Query', how= 'left').rename(columns = {'Число показов_x': 'Число показов', 'Число показов_y': 'quantile_0.25'})\n",
        "CTR_docs = CTR_docs.merge(CTR_docs[CTR_docs['Число показов'] > CTR_docs['quantile_0.25']].groupby('Query')['CTR документа'].max(), on= 'Query', how='left').rename(columns = {'CTR документа_x': 'CTR документа', 'CTR документа_y': 'max_CTR_quantile_0.25'})\n",
        "\n",
        "CTR_docs = CTR_docs.merge(CTR_docs.groupby('Query')['Число показов'].quantile(0.5), on= 'Query', how= 'left').rename(columns = {'Число показов_x': 'Число показов', 'Число показов_y': 'quantile_0.5'})\n",
        "CTR_docs = CTR_docs.merge(CTR_docs[CTR_docs['Число показов'] > CTR_docs['quantile_0.5']].groupby('Query')['CTR документа'].max(), on= 'Query', how='left').rename(columns = {'CTR документа_x': 'CTR документа', 'CTR документа_y': 'max_CTR_quantile_0.5'})"
      ],
      "execution_count": 34,
      "outputs": []
    },
    {
      "cell_type": "code",
      "metadata": {
        "colab": {
          "base_uri": "https://localhost:8080/"
        },
        "id": "dXnrpCcetZGq",
        "outputId": "33061ba3-1532-4005-ea56-083225ff2c08"
      },
      "source": [
        "CTR_docs['Nav_extent'] = np.log(CTR_docs['Click'])/np.log(CTR_docs['Click_q'])\n",
        "CTR_docs['Nav_extent'] = CTR_docs['Nav_extent'].replace(np.NINF, 0)\n",
        "CTR_docs['Nav_extent'] = CTR_docs['Nav_extent'].replace(np.inf, 0)\n",
        "CTR_docs['Nav_extent_MAX'] = CTR_docs.groupby('Query')['Nav_extent'].transform('max')"
      ],
      "execution_count": 35,
      "outputs": [
        {
          "output_type": "stream",
          "text": [
            "/usr/local/lib/python3.7/dist-packages/pandas/core/series.py:726: RuntimeWarning: divide by zero encountered in log\n",
            "  result = getattr(ufunc, method)(*inputs, **kwargs)\n"
          ],
          "name": "stderr"
        }
      ]
    },
    {
      "cell_type": "code",
      "metadata": {
        "id": "VSXEiD0EYDpV"
      },
      "source": [
        "CTR_docs = CTR_docs.fillna(0)"
      ],
      "execution_count": 36,
      "outputs": []
    },
    {
      "cell_type": "markdown",
      "metadata": {
        "id": "XlX8o2p-iovR"
      },
      "source": [
        "Добавим в эту таблицу метки классов"
      ]
    },
    {
      "cell_type": "code",
      "metadata": {
        "id": "ATOkfeEZDnWQ"
      },
      "source": [
        "CTR_docs = CTR_docs.merge(df[['Query', 'type']], how='left', on='Query').drop_duplicates()"
      ],
      "execution_count": 37,
      "outputs": []
    },
    {
      "cell_type": "code",
      "metadata": {
        "id": "MypbAKxSsPGU",
        "colab": {
          "base_uri": "https://localhost:8080/",
          "height": 266
        },
        "outputId": "dfa91007-9b23-42d4-eef8-dd8cb11a5d06"
      },
      "source": [
        "df1 = CTR_docs[CTR_docs['type']==1]\n",
        "df2 = CTR_docs[CTR_docs['type']==0]\n",
        "histogramm(df1['Nav_extent_MAX'], df2['Nav_extent_MAX'])"
      ],
      "execution_count": 38,
      "outputs": [
        {
          "output_type": "display_data",
          "data": {
            "image/png": "[encoded data removed]",
            "text/plain": [
              "<Figure size 432x288 with 1 Axes>"
            ]
          },
          "metadata": {
            "tags": [],
            "needs_background": "light"
          }
        }
      ]
    },
    {
      "cell_type": "markdown",
      "metadata": {
        "id": "JLYh1AfMQnA_"
      },
      "source": [
        "Визуализация признака ***Nav_extent_MAX*** дает возможность сделать вывод о более плохой разделяющей способности, чем признаки, составленные на основе таблицы CTR_position\n"
      ]
    },
    {
      "cell_type": "code",
      "metadata": {
        "id": "mD9mK9z_tu3p"
      },
      "source": [
        "temp = CTR_docs['type'].copy().dropna()\n",
        "nav_mean = CTR_docs[CTR_docs['type']==1]['Nav_extent_MAX'].mean()"
      ],
      "execution_count": 39,
      "outputs": []
    },
    {
      "cell_type": "code",
      "metadata": {
        "id": "ki225Nk73mJy"
      },
      "source": [
        "CTR_docs['nav_border'] = CTR_docs.apply(lambda x: border_CTR(x['Nav_extent_MAX'],  nav_mean), axis=1)"
      ],
      "execution_count": 40,
      "outputs": []
    },
    {
      "cell_type": "code",
      "metadata": {
        "colab": {
          "base_uri": "https://localhost:8080/"
        },
        "id": "s2u5kwhCstZ8",
        "outputId": "458e50d1-3f3e-4596-918b-25bb7f1ff49d"
      },
      "source": [
        "f1_score(temp,CTR_docs[~CTR_docs.index.isin(CTR_docs[CTR_docs['type'].isnull() == True].index)]['nav_border'].reset_index(drop=True))"
      ],
      "execution_count": 41,
      "outputs": [
        {
          "output_type": "execute_result",
          "data": {
            "text/plain": [
              "0.6674527054563328"
            ]
          },
          "metadata": {
            "tags": []
          },
          "execution_count": 41
        }
      ]
    },
    {
      "cell_type": "markdown",
      "metadata": {
        "id": "Rk4nxvG96USA"
      },
      "source": [
        "# Prediction и выводы"
      ]
    },
    {
      "cell_type": "markdown",
      "metadata": {
        "id": "88VTQgVNPPtA"
      },
      "source": [
        "В качестве простейшей модели выбрано неглубокое решающее дерево, поскольку она [модель] легко интерпретируется "
      ]
    },
    {
      "cell_type": "code",
      "metadata": {
        "id": "Zw3c1btJ1srw"
      },
      "source": [
        "df_mini = CTR_docs[['Query', 'doc_unique_7',\t'doc_unique_5',\t'doc_unique_3',\t'max_CTR_quantile_0.1', 'max_CTR_quantile_0.25',\t'max_CTR_quantile_0.5', 'Nav_extent_MAX', 'doc_num']].drop_duplicates()\n",
        "df_itog = df_mini.merge(df[['Query', 'type',\t'rate_CTR1',\t'rate_CTR_MAX']], on= 'Query', how= 'right')\n",
        "df_itog = df_itog.fillna(0)"
      ],
      "execution_count": 42,
      "outputs": []
    },
    {
      "cell_type": "code",
      "metadata": {
        "id": "aDgNhYHp-k5X"
      },
      "source": [
        "X = df_itog.drop('type', axis = 1)\n",
        "y = df_itog['type']\n",
        "\n",
        "X_train1, X_test1, y_train, y_test = train_test_split(X, y, test_size = 0.25, random_state = 23)"
      ],
      "execution_count": 43,
      "outputs": []
    },
    {
      "cell_type": "code",
      "metadata": {
        "id": "2MSmFhCpnnCF"
      },
      "source": [
        "X_train = X_train1.drop('Query', axis = 1)\n",
        "X_test = X_test1.drop('Query', axis = 1)"
      ],
      "execution_count": 44,
      "outputs": []
    },
    {
      "cell_type": "code",
      "metadata": {
        "colab": {
          "base_uri": "https://localhost:8080/"
        },
        "id": "kX9etCaU6AMA",
        "outputId": "4ef8d5aa-aeca-4fe4-c44b-a2c971738a54"
      },
      "source": [
        "clf = DecisionTreeClassifier(random_state= 23, max_depth=3)\n",
        "clf.fit(X_train, y_train)\n",
        "y_pred = clf.predict(X_test)\n",
        "\n",
        "f1_score(y_test,y_pred)"
      ],
      "execution_count": 45,
      "outputs": [
        {
          "output_type": "execute_result",
          "data": {
            "text/plain": [
              "0.8084873673848846"
            ]
          },
          "metadata": {
            "tags": []
          },
          "execution_count": 45
        }
      ]
    },
    {
      "cell_type": "code",
      "metadata": {
        "colab": {
          "base_uri": "https://localhost:8080/",
          "height": 538
        },
        "id": "_JZVeKFs7Tik",
        "outputId": "26efb0db-5d74-4e5c-8757-cdf3a0acf81b"
      },
      "source": [
        "import graphviz\n",
        "\n",
        "dot_data = sklearn.tree.export_graphviz(clf, \n",
        "                  feature_names=X_train.columns,  \n",
        "                  filled=True, rounded=True,  \n",
        "                  special_characters=True,\n",
        "                   out_file=None)\n",
        "graph = graphviz.Source(dot_data)\n",
        "graph"
      ],
      "execution_count": 46,
      "outputs": [
        {
          "output_type": "execute_result",
          "data": {
            "text/plain": [
              "<graphviz.files.Source at 0x7fab6cd094d0>"
            ],
            "image/svg+xml": "<?xml version=\"1.0\" encoding=\"UTF-8\" standalone=\"no\"?>\n<!DOCTYPE svg PUBLIC \"-//W3C//DTD SVG 1.1//EN\"\n \"http://www.w3.org/Graphics/SVG/1.1/DTD/svg11.dtd\">\n<!-- Generated by graphviz version 2.40.1 (20161225.0304)\n -->\n<!-- Title: Tree Pages: 1 -->\n<svg width=\"1258pt\" height=\"373pt\"\n viewBox=\"0.00 0.00 1258.00 373.00\" xmlns=\"http://www.w3.org/2000/svg\" xmlns:xlink=\"http://www.w3.org/1999/xlink\">\n<g id=\"graph0\" class=\"graph\" transform=\"scale(1 1) rotate(0) translate(4 369)\">\n<title>Tree</title>\n<polygon fill=\"#ffffff\" stroke=\"transparent\" points=\"-4,4 -4,-369 1254,-369 1254,4 -4,4\"/>\n<!-- 0 -->\n<g id=\"node1\" class=\"node\">\n<title>0</title>\n<path fill=\"#f3c4a2\" stroke=\"#000000\" d=\"M679.5,-365C679.5,-365 532.5,-365 532.5,-365 526.5,-365 520.5,-359 520.5,-353 520.5,-353 520.5,-309 520.5,-309 520.5,-303 526.5,-297 532.5,-297 532.5,-297 679.5,-297 679.5,-297 685.5,-297 691.5,-303 691.5,-309 691.5,-309 691.5,-353 691.5,-353 691.5,-359 685.5,-365 679.5,-365\"/>\n<text text-anchor=\"start\" x=\"528.5\" y=\"-349.8\" font-family=\"Helvetica,sans-Serif\" font-size=\"14.00\" fill=\"#000000\">rate_CTR_MAX ≤ 0.719</text>\n<text text-anchor=\"start\" x=\"568\" y=\"-334.8\" font-family=\"Helvetica,sans-Serif\" font-size=\"14.00\" fill=\"#000000\">gini = 0.453</text>\n<text text-anchor=\"start\" x=\"550\" y=\"-319.8\" font-family=\"Helvetica,sans-Serif\" font-size=\"14.00\" fill=\"#000000\">samples = 39960</text>\n<text text-anchor=\"start\" x=\"531.5\" y=\"-304.8\" font-family=\"Helvetica,sans-Serif\" font-size=\"14.00\" fill=\"#000000\">value = [26098, 13862]</text>\n</g>\n<!-- 1 -->\n<g id=\"node2\" class=\"node\">\n<title>1</title>\n<path fill=\"#ea985e\" stroke=\"#000000\" d=\"M545,-261C545,-261 355,-261 355,-261 349,-261 343,-255 343,-249 343,-249 343,-205 343,-205 343,-199 349,-193 355,-193 355,-193 545,-193 545,-193 551,-193 557,-199 557,-205 557,-205 557,-249 557,-249 557,-255 551,-261 545,-261\"/>\n<text text-anchor=\"start\" x=\"351\" y=\"-245.8\" font-family=\"Helvetica,sans-Serif\" font-size=\"14.00\" fill=\"#000000\">max_CTR_quantile_0.5 ≤ 1.22</text>\n<text text-anchor=\"start\" x=\"412\" y=\"-230.8\" font-family=\"Helvetica,sans-Serif\" font-size=\"14.00\" fill=\"#000000\">gini = 0.265</text>\n<text text-anchor=\"start\" x=\"394\" y=\"-215.8\" font-family=\"Helvetica,sans-Serif\" font-size=\"14.00\" fill=\"#000000\">samples = 28608</text>\n<text text-anchor=\"start\" x=\"379.5\" y=\"-200.8\" font-family=\"Helvetica,sans-Serif\" font-size=\"14.00\" fill=\"#000000\">value = [24113, 4495]</text>\n</g>\n<!-- 0&#45;&gt;1 -->\n<g id=\"edge1\" class=\"edge\">\n<title>0&#45;&gt;1</title>\n<path fill=\"none\" stroke=\"#000000\" d=\"M554.9198,-296.9465C540.5092,-287.3395 524.7014,-276.8009 509.8272,-266.8848\"/>\n<polygon fill=\"#000000\" stroke=\"#000000\" points=\"511.457,-263.7649 501.195,-261.13 507.574,-269.5892 511.457,-263.7649\"/>\n<text text-anchor=\"middle\" x=\"506.0979\" y=\"-281.9445\" font-family=\"Helvetica,sans-Serif\" font-size=\"14.00\" fill=\"#000000\">True</text>\n</g>\n<!-- 8 -->\n<g id=\"node9\" class=\"node\">\n<title>8</title>\n<path fill=\"#63b2eb\" stroke=\"#000000\" d=\"M842.5,-261C842.5,-261 695.5,-261 695.5,-261 689.5,-261 683.5,-255 683.5,-249 683.5,-249 683.5,-205 683.5,-205 683.5,-199 689.5,-193 695.5,-193 695.5,-193 842.5,-193 842.5,-193 848.5,-193 854.5,-199 854.5,-205 854.5,-205 854.5,-249 854.5,-249 854.5,-255 848.5,-261 842.5,-261\"/>\n<text text-anchor=\"start\" x=\"691.5\" y=\"-245.8\" font-family=\"Helvetica,sans-Serif\" font-size=\"14.00\" fill=\"#000000\">rate_CTR_MAX ≤ 0.851</text>\n<text text-anchor=\"start\" x=\"731\" y=\"-230.8\" font-family=\"Helvetica,sans-Serif\" font-size=\"14.00\" fill=\"#000000\">gini = 0.289</text>\n<text text-anchor=\"start\" x=\"713\" y=\"-215.8\" font-family=\"Helvetica,sans-Serif\" font-size=\"14.00\" fill=\"#000000\">samples = 11352</text>\n<text text-anchor=\"start\" x=\"702.5\" y=\"-200.8\" font-family=\"Helvetica,sans-Serif\" font-size=\"14.00\" fill=\"#000000\">value = [1985, 9367]</text>\n</g>\n<!-- 0&#45;&gt;8 -->\n<g id=\"edge8\" class=\"edge\">\n<title>0&#45;&gt;8</title>\n<path fill=\"none\" stroke=\"#000000\" d=\"M659.3723,-296.9465C674.5702,-287.2497 691.2555,-276.6039 706.9237,-266.6069\"/>\n<polygon fill=\"#000000\" stroke=\"#000000\" points=\"708.9602,-269.4594 715.5078,-261.13 705.195,-263.5582 708.9602,-269.4594\"/>\n<text text-anchor=\"middle\" x=\"710.1136\" y=\"-281.8411\" font-family=\"Helvetica,sans-Serif\" font-size=\"14.00\" fill=\"#000000\">False</text>\n</g>\n<!-- 2 -->\n<g id=\"node3\" class=\"node\">\n<title>2</title>\n<path fill=\"#bfdff7\" stroke=\"#000000\" d=\"M290.5,-157C290.5,-157 165.5,-157 165.5,-157 159.5,-157 153.5,-151 153.5,-145 153.5,-145 153.5,-101 153.5,-101 153.5,-95 159.5,-89 165.5,-89 165.5,-89 290.5,-89 290.5,-89 296.5,-89 302.5,-95 302.5,-101 302.5,-101 302.5,-145 302.5,-145 302.5,-151 296.5,-157 290.5,-157\"/>\n<text text-anchor=\"start\" x=\"163.5\" y=\"-141.8\" font-family=\"Helvetica,sans-Serif\" font-size=\"14.00\" fill=\"#000000\">doc_unique_7 ≤ 0.5</text>\n<text text-anchor=\"start\" x=\"190\" y=\"-126.8\" font-family=\"Helvetica,sans-Serif\" font-size=\"14.00\" fill=\"#000000\">gini = 0.481</text>\n<text text-anchor=\"start\" x=\"176\" y=\"-111.8\" font-family=\"Helvetica,sans-Serif\" font-size=\"14.00\" fill=\"#000000\">samples = 3282</text>\n<text text-anchor=\"start\" x=\"161.5\" y=\"-96.8\" font-family=\"Helvetica,sans-Serif\" font-size=\"14.00\" fill=\"#000000\">value = [1325, 1957]</text>\n</g>\n<!-- 1&#45;&gt;2 -->\n<g id=\"edge2\" class=\"edge\">\n<title>1&#45;&gt;2</title>\n<path fill=\"none\" stroke=\"#000000\" d=\"M377.3089,-192.9465C355.8433,-182.8906 332.1991,-171.814 310.1804,-161.4989\"/>\n<polygon fill=\"#000000\" stroke=\"#000000\" points=\"311.3948,-158.2028 300.8544,-157.13 308.4252,-164.5418 311.3948,-158.2028\"/>\n</g>\n<!-- 5 -->\n<g id=\"node6\" class=\"node\">\n<title>5</title>\n<path fill=\"#e88f4f\" stroke=\"#000000\" d=\"M516.5,-157C516.5,-157 383.5,-157 383.5,-157 377.5,-157 371.5,-151 371.5,-145 371.5,-145 371.5,-101 371.5,-101 371.5,-95 377.5,-89 383.5,-89 383.5,-89 516.5,-89 516.5,-89 522.5,-89 528.5,-95 528.5,-101 528.5,-101 528.5,-145 528.5,-145 528.5,-151 522.5,-157 516.5,-157\"/>\n<text text-anchor=\"start\" x=\"385.5\" y=\"-141.8\" font-family=\"Helvetica,sans-Serif\" font-size=\"14.00\" fill=\"#000000\">doc_unique_7 ≤ 8.5</text>\n<text text-anchor=\"start\" x=\"416.5\" y=\"-126.8\" font-family=\"Helvetica,sans-Serif\" font-size=\"14.00\" fill=\"#000000\">gini = 0.18</text>\n<text text-anchor=\"start\" x=\"394\" y=\"-111.8\" font-family=\"Helvetica,sans-Serif\" font-size=\"14.00\" fill=\"#000000\">samples = 25326</text>\n<text text-anchor=\"start\" x=\"379.5\" y=\"-96.8\" font-family=\"Helvetica,sans-Serif\" font-size=\"14.00\" fill=\"#000000\">value = [22788, 2538]</text>\n</g>\n<!-- 1&#45;&gt;5 -->\n<g id=\"edge5\" class=\"edge\">\n<title>1&#45;&gt;5</title>\n<path fill=\"none\" stroke=\"#000000\" d=\"M450,-192.9465C450,-184.776 450,-175.9318 450,-167.3697\"/>\n<polygon fill=\"#000000\" stroke=\"#000000\" points=\"453.5001,-167.13 450,-157.13 446.5001,-167.13 453.5001,-167.13\"/>\n</g>\n<!-- 3 -->\n<g id=\"node4\" class=\"node\">\n<title>3</title>\n<path fill=\"#eca26c\" stroke=\"#000000\" d=\"M128,-53C128,-53 12,-53 12,-53 6,-53 0,-47 0,-41 0,-41 0,-12 0,-12 0,-6 6,0 12,0 12,0 128,0 128,0 134,0 140,-6 140,-12 140,-12 140,-41 140,-41 140,-47 134,-53 128,-53\"/>\n<text text-anchor=\"start\" x=\"32\" y=\"-37.8\" font-family=\"Helvetica,sans-Serif\" font-size=\"14.00\" fill=\"#000000\">gini = 0.327</text>\n<text text-anchor=\"start\" x=\"18\" y=\"-22.8\" font-family=\"Helvetica,sans-Serif\" font-size=\"14.00\" fill=\"#000000\">samples = 1280</text>\n<text text-anchor=\"start\" x=\"8\" y=\"-7.8\" font-family=\"Helvetica,sans-Serif\" font-size=\"14.00\" fill=\"#000000\">value = [1016, 264]</text>\n</g>\n<!-- 2&#45;&gt;3 -->\n<g id=\"edge3\" class=\"edge\">\n<title>2&#45;&gt;3</title>\n<path fill=\"none\" stroke=\"#000000\" d=\"M172.2951,-88.9777C156.028,-79.0424 138.3136,-68.2232 122.2674,-58.4228\"/>\n<polygon fill=\"#000000\" stroke=\"#000000\" points=\"123.9027,-55.3204 113.5442,-53.095 120.254,-61.2943 123.9027,-55.3204\"/>\n</g>\n<!-- 4 -->\n<g id=\"node5\" class=\"node\">\n<title>4</title>\n<path fill=\"#5dafea\" stroke=\"#000000\" d=\"M286,-53C286,-53 170,-53 170,-53 164,-53 158,-47 158,-41 158,-41 158,-12 158,-12 158,-6 164,0 170,0 170,0 286,0 286,0 292,0 298,-6 298,-12 298,-12 298,-41 298,-41 298,-47 292,-53 286,-53\"/>\n<text text-anchor=\"start\" x=\"190\" y=\"-37.8\" font-family=\"Helvetica,sans-Serif\" font-size=\"14.00\" fill=\"#000000\">gini = 0.261</text>\n<text text-anchor=\"start\" x=\"176\" y=\"-22.8\" font-family=\"Helvetica,sans-Serif\" font-size=\"14.00\" fill=\"#000000\">samples = 2002</text>\n<text text-anchor=\"start\" x=\"166\" y=\"-7.8\" font-family=\"Helvetica,sans-Serif\" font-size=\"14.00\" fill=\"#000000\">value = [309, 1693]</text>\n</g>\n<!-- 2&#45;&gt;4 -->\n<g id=\"edge4\" class=\"edge\">\n<title>2&#45;&gt;4</title>\n<path fill=\"none\" stroke=\"#000000\" d=\"M228,-88.9777C228,-80.7364 228,-71.887 228,-63.5153\"/>\n<polygon fill=\"#000000\" stroke=\"#000000\" points=\"231.5001,-63.2484 228,-53.2485 224.5001,-63.2485 231.5001,-63.2484\"/>\n</g>\n<!-- 6 -->\n<g id=\"node7\" class=\"node\">\n<title>6</title>\n<path fill=\"#e78c4a\" stroke=\"#000000\" d=\"M461.5,-53C461.5,-53 328.5,-53 328.5,-53 322.5,-53 316.5,-47 316.5,-41 316.5,-41 316.5,-12 316.5,-12 316.5,-6 322.5,0 328.5,0 328.5,0 461.5,0 461.5,0 467.5,0 473.5,-6 473.5,-12 473.5,-12 473.5,-41 473.5,-41 473.5,-47 467.5,-53 461.5,-53\"/>\n<text text-anchor=\"start\" x=\"357\" y=\"-37.8\" font-family=\"Helvetica,sans-Serif\" font-size=\"14.00\" fill=\"#000000\">gini = 0.143</text>\n<text text-anchor=\"start\" x=\"339\" y=\"-22.8\" font-family=\"Helvetica,sans-Serif\" font-size=\"14.00\" fill=\"#000000\">samples = 23610</text>\n<text text-anchor=\"start\" x=\"324.5\" y=\"-7.8\" font-family=\"Helvetica,sans-Serif\" font-size=\"14.00\" fill=\"#000000\">value = [21785, 1825]</text>\n</g>\n<!-- 5&#45;&gt;6 -->\n<g id=\"edge6\" class=\"edge\">\n<title>5&#45;&gt;6</title>\n<path fill=\"none\" stroke=\"#000000\" d=\"M430.6091,-88.9777C425.651,-80.2786 420.3067,-70.9018 415.3042,-62.1247\"/>\n<polygon fill=\"#000000\" stroke=\"#000000\" points=\"418.2378,-60.2033 410.2452,-53.2485 412.1562,-63.6696 418.2378,-60.2033\"/>\n</g>\n<!-- 7 -->\n<g id=\"node8\" class=\"node\">\n<title>7</title>\n<path fill=\"#f7dbc6\" stroke=\"#000000\" d=\"M620,-53C620,-53 504,-53 504,-53 498,-53 492,-47 492,-41 492,-41 492,-12 492,-12 492,-6 498,0 504,0 504,0 620,0 620,0 626,0 632,-6 632,-12 632,-12 632,-41 632,-41 632,-47 626,-53 620,-53\"/>\n<text text-anchor=\"start\" x=\"524\" y=\"-37.8\" font-family=\"Helvetica,sans-Serif\" font-size=\"14.00\" fill=\"#000000\">gini = 0.486</text>\n<text text-anchor=\"start\" x=\"510\" y=\"-22.8\" font-family=\"Helvetica,sans-Serif\" font-size=\"14.00\" fill=\"#000000\">samples = 1716</text>\n<text text-anchor=\"start\" x=\"500\" y=\"-7.8\" font-family=\"Helvetica,sans-Serif\" font-size=\"14.00\" fill=\"#000000\">value = [1003, 713]</text>\n</g>\n<!-- 5&#45;&gt;7 -->\n<g id=\"edge7\" class=\"edge\">\n<title>5&#45;&gt;7</title>\n<path fill=\"none\" stroke=\"#000000\" d=\"M489.487,-88.9777C500.4336,-79.546 512.3047,-69.3178 523.2111,-59.9208\"/>\n<polygon fill=\"#000000\" stroke=\"#000000\" points=\"525.6639,-62.4274 530.9551,-53.2485 521.0947,-57.1244 525.6639,-62.4274\"/>\n</g>\n<!-- 9 -->\n<g id=\"node10\" class=\"node\">\n<title>9</title>\n<path fill=\"#acd6f4\" stroke=\"#000000\" d=\"M868,-157C868,-157 670,-157 670,-157 664,-157 658,-151 658,-145 658,-145 658,-101 658,-101 658,-95 664,-89 670,-89 670,-89 868,-89 868,-89 874,-89 880,-95 880,-101 880,-101 880,-145 880,-145 880,-151 874,-157 868,-157\"/>\n<text text-anchor=\"start\" x=\"666\" y=\"-141.8\" font-family=\"Helvetica,sans-Serif\" font-size=\"14.00\" fill=\"#000000\">max_CTR_quantile_0.5 ≤ 0.671</text>\n<text text-anchor=\"start\" x=\"731\" y=\"-126.8\" font-family=\"Helvetica,sans-Serif\" font-size=\"14.00\" fill=\"#000000\">gini = 0.465</text>\n<text text-anchor=\"start\" x=\"717\" y=\"-111.8\" font-family=\"Helvetica,sans-Serif\" font-size=\"14.00\" fill=\"#000000\">samples = 3328</text>\n<text text-anchor=\"start\" x=\"702.5\" y=\"-96.8\" font-family=\"Helvetica,sans-Serif\" font-size=\"14.00\" fill=\"#000000\">value = [1223, 2105]</text>\n</g>\n<!-- 8&#45;&gt;9 -->\n<g id=\"edge9\" class=\"edge\">\n<title>8&#45;&gt;9</title>\n<path fill=\"none\" stroke=\"#000000\" d=\"M769,-192.9465C769,-184.776 769,-175.9318 769,-167.3697\"/>\n<polygon fill=\"#000000\" stroke=\"#000000\" points=\"772.5001,-167.13 769,-157.13 765.5001,-167.13 772.5001,-167.13\"/>\n</g>\n<!-- 12 -->\n<g id=\"node13\" class=\"node\">\n<title>12</title>\n<path fill=\"#4ea7e8\" stroke=\"#000000\" d=\"M1084,-157C1084,-157 968,-157 968,-157 962,-157 956,-151 956,-145 956,-145 956,-101 956,-101 956,-95 962,-89 968,-89 968,-89 1084,-89 1084,-89 1090,-89 1096,-95 1096,-101 1096,-101 1096,-145 1096,-145 1096,-151 1090,-157 1084,-157\"/>\n<text text-anchor=\"start\" x=\"977.5\" y=\"-141.8\" font-family=\"Helvetica,sans-Serif\" font-size=\"14.00\" fill=\"#000000\">doc_num ≤ 9.5</text>\n<text text-anchor=\"start\" x=\"988\" y=\"-126.8\" font-family=\"Helvetica,sans-Serif\" font-size=\"14.00\" fill=\"#000000\">gini = 0.172</text>\n<text text-anchor=\"start\" x=\"974\" y=\"-111.8\" font-family=\"Helvetica,sans-Serif\" font-size=\"14.00\" fill=\"#000000\">samples = 8024</text>\n<text text-anchor=\"start\" x=\"964\" y=\"-96.8\" font-family=\"Helvetica,sans-Serif\" font-size=\"14.00\" fill=\"#000000\">value = [762, 7262]</text>\n</g>\n<!-- 8&#45;&gt;12 -->\n<g id=\"edge12\" class=\"edge\">\n<title>8&#45;&gt;12</title>\n<path fill=\"none\" stroke=\"#000000\" d=\"M853.1514,-192.9465C883.1369,-180.8123 916.7947,-167.192 946.3873,-155.2168\"/>\n<polygon fill=\"#000000\" stroke=\"#000000\" points=\"947.8858,-158.3862 955.8426,-151.3905 945.2599,-151.8974 947.8858,-158.3862\"/>\n</g>\n<!-- 10 -->\n<g id=\"node11\" class=\"node\">\n<title>10</title>\n<path fill=\"#52a9e8\" stroke=\"#000000\" d=\"M762,-53C762,-53 662,-53 662,-53 656,-53 650,-47 650,-41 650,-41 650,-12 650,-12 650,-6 656,0 662,0 662,0 762,0 762,0 768,0 774,-6 774,-12 774,-12 774,-41 774,-41 774,-47 768,-53 762,-53\"/>\n<text text-anchor=\"start\" x=\"674\" y=\"-37.8\" font-family=\"Helvetica,sans-Serif\" font-size=\"14.00\" fill=\"#000000\">gini = 0.199</text>\n<text text-anchor=\"start\" x=\"664\" y=\"-22.8\" font-family=\"Helvetica,sans-Serif\" font-size=\"14.00\" fill=\"#000000\">samples = 758</text>\n<text text-anchor=\"start\" x=\"658\" y=\"-7.8\" font-family=\"Helvetica,sans-Serif\" font-size=\"14.00\" fill=\"#000000\">value = [85, 673]</text>\n</g>\n<!-- 9&#45;&gt;10 -->\n<g id=\"edge10\" class=\"edge\">\n<title>9&#45;&gt;10</title>\n<path fill=\"none\" stroke=\"#000000\" d=\"M748.9039,-88.9777C743.7656,-80.2786 738.227,-70.9018 733.0425,-62.1247\"/>\n<polygon fill=\"#000000\" stroke=\"#000000\" points=\"735.899,-60.0786 727.7996,-53.2485 729.8719,-63.6387 735.899,-60.0786\"/>\n</g>\n<!-- 11 -->\n<g id=\"node12\" class=\"node\">\n<title>11</title>\n<path fill=\"#d6ebfa\" stroke=\"#000000\" d=\"M929.5,-53C929.5,-53 804.5,-53 804.5,-53 798.5,-53 792.5,-47 792.5,-41 792.5,-41 792.5,-12 792.5,-12 792.5,-6 798.5,0 804.5,0 804.5,0 929.5,0 929.5,0 935.5,0 941.5,-6 941.5,-12 941.5,-12 941.5,-41 941.5,-41 941.5,-47 935.5,-53 929.5,-53\"/>\n<text text-anchor=\"start\" x=\"829\" y=\"-37.8\" font-family=\"Helvetica,sans-Serif\" font-size=\"14.00\" fill=\"#000000\">gini = 0.493</text>\n<text text-anchor=\"start\" x=\"815\" y=\"-22.8\" font-family=\"Helvetica,sans-Serif\" font-size=\"14.00\" fill=\"#000000\">samples = 2570</text>\n<text text-anchor=\"start\" x=\"800.5\" y=\"-7.8\" font-family=\"Helvetica,sans-Serif\" font-size=\"14.00\" fill=\"#000000\">value = [1138, 1432]</text>\n</g>\n<!-- 9&#45;&gt;11 -->\n<g id=\"edge11\" class=\"edge\">\n<title>9&#45;&gt;11</title>\n<path fill=\"none\" stroke=\"#000000\" d=\"M803.5511,-88.9777C812.9434,-79.7292 823.1136,-69.7147 832.5029,-60.4691\"/>\n<polygon fill=\"#000000\" stroke=\"#000000\" points=\"835.1661,-62.7587 839.8357,-53.2485 830.2546,-57.7709 835.1661,-62.7587\"/>\n</g>\n<!-- 13 -->\n<g id=\"node14\" class=\"node\">\n<title>13</title>\n<path fill=\"#3fa0e6\" stroke=\"#000000\" d=\"M1080,-53C1080,-53 972,-53 972,-53 966,-53 960,-47 960,-41 960,-41 960,-12 960,-12 960,-6 966,0 972,0 972,0 1080,0 1080,0 1086,0 1092,-6 1092,-12 1092,-12 1092,-41 1092,-41 1092,-47 1086,-53 1080,-53\"/>\n<text text-anchor=\"start\" x=\"992.5\" y=\"-37.8\" font-family=\"Helvetica,sans-Serif\" font-size=\"14.00\" fill=\"#000000\">gini = 0.06</text>\n<text text-anchor=\"start\" x=\"974\" y=\"-22.8\" font-family=\"Helvetica,sans-Serif\" font-size=\"14.00\" fill=\"#000000\">samples = 2546</text>\n<text text-anchor=\"start\" x=\"968\" y=\"-7.8\" font-family=\"Helvetica,sans-Serif\" font-size=\"14.00\" fill=\"#000000\">value = [79, 2467]</text>\n</g>\n<!-- 12&#45;&gt;13 -->\n<g id=\"edge13\" class=\"edge\">\n<title>12&#45;&gt;13</title>\n<path fill=\"none\" stroke=\"#000000\" d=\"M1026,-88.9777C1026,-80.7364 1026,-71.887 1026,-63.5153\"/>\n<polygon fill=\"#000000\" stroke=\"#000000\" points=\"1029.5001,-63.2484 1026,-53.2485 1022.5001,-63.2485 1029.5001,-63.2484\"/>\n</g>\n<!-- 14 -->\n<g id=\"node15\" class=\"node\">\n<title>14</title>\n<path fill=\"#55abe9\" stroke=\"#000000\" d=\"M1238,-53C1238,-53 1122,-53 1122,-53 1116,-53 1110,-47 1110,-41 1110,-41 1110,-12 1110,-12 1110,-6 1116,0 1122,0 1122,0 1238,0 1238,0 1244,0 1250,-6 1250,-12 1250,-12 1250,-41 1250,-41 1250,-47 1244,-53 1238,-53\"/>\n<text text-anchor=\"start\" x=\"1142\" y=\"-37.8\" font-family=\"Helvetica,sans-Serif\" font-size=\"14.00\" fill=\"#000000\">gini = 0.218</text>\n<text text-anchor=\"start\" x=\"1128\" y=\"-22.8\" font-family=\"Helvetica,sans-Serif\" font-size=\"14.00\" fill=\"#000000\">samples = 5478</text>\n<text text-anchor=\"start\" x=\"1118\" y=\"-7.8\" font-family=\"Helvetica,sans-Serif\" font-size=\"14.00\" fill=\"#000000\">value = [683, 4795]</text>\n</g>\n<!-- 12&#45;&gt;14 -->\n<g id=\"edge14\" class=\"edge\">\n<title>12&#45;&gt;14</title>\n<path fill=\"none\" stroke=\"#000000\" d=\"M1080.2946,-88.9777C1095.9308,-79.1798 1112.9387,-68.5222 1128.4063,-58.8298\"/>\n<polygon fill=\"#000000\" stroke=\"#000000\" points=\"1130.698,-61.5242 1137.3133,-53.2485 1126.981,-55.5926 1130.698,-61.5242\"/>\n</g>\n</g>\n</svg>\n"
          },
          "metadata": {
            "tags": []
          },
          "execution_count": 46
        }
      ]
    },
    {
      "cell_type": "markdown",
      "metadata": {
        "id": "J2bbGFduxqb4"
      },
      "source": [
        "Для просмотра строк, в которых мы ошибаемся"
      ]
    },
    {
      "cell_type": "code",
      "metadata": {
        "id": "_DZ1DCdZmn8b"
      },
      "source": [
        "test = X_test1.copy()\n",
        "\n",
        "test['type'] = y_test\n",
        "test['pred'] = y_pred"
      ],
      "execution_count": 47,
      "outputs": []
    },
    {
      "cell_type": "code",
      "metadata": {
        "colab": {
          "base_uri": "https://localhost:8080/",
          "height": 311
        },
        "id": "UQbUHT44oE8B",
        "outputId": "dedfcc78-0adb-4137-90a7-0225de653147"
      },
      "source": [
        "fail_test = test[test['type'] != test['pred']]\n",
        "fail_test.head(3)"
      ],
      "execution_count": 48,
      "outputs": [
        {
          "output_type": "execute_result",
          "data": {
            "text/html": [
              "<div>\n",
              "<style scoped>\n",
              "    .dataframe tbody tr th:only-of-type {\n",
              "        vertical-align: middle;\n",
              "    }\n",
              "\n",
              "    .dataframe tbody tr th {\n",
              "        vertical-align: top;\n",
              "    }\n",
              "\n",
              "    .dataframe thead th {\n",
              "        text-align: right;\n",
              "    }\n",
              "</style>\n",
              "<table border=\"1\" class=\"dataframe\">\n",
              "  <thead>\n",
              "    <tr style=\"text-align: right;\">\n",
              "      <th></th>\n",
              "      <th>Query</th>\n",
              "      <th>doc_unique_7</th>\n",
              "      <th>doc_unique_5</th>\n",
              "      <th>doc_unique_3</th>\n",
              "      <th>max_CTR_quantile_0.1</th>\n",
              "      <th>max_CTR_quantile_0.25</th>\n",
              "      <th>max_CTR_quantile_0.5</th>\n",
              "      <th>Nav_extent_MAX</th>\n",
              "      <th>doc_num</th>\n",
              "      <th>rate_CTR1</th>\n",
              "      <th>rate_CTR_MAX</th>\n",
              "      <th>type</th>\n",
              "      <th>pred</th>\n",
              "    </tr>\n",
              "  </thead>\n",
              "  <tbody>\n",
              "    <tr>\n",
              "      <th>10268</th>\n",
              "      <td>снип несущие и ограждающие конструкции</td>\n",
              "      <td>2.0</td>\n",
              "      <td>1.0</td>\n",
              "      <td>1.0</td>\n",
              "      <td>53.816794</td>\n",
              "      <td>53.816794</td>\n",
              "      <td>53.816794</td>\n",
              "      <td>0.851161</td>\n",
              "      <td>10.0</td>\n",
              "      <td>0.456221</td>\n",
              "      <td>0.456221</td>\n",
              "      <td>1</td>\n",
              "      <td>0</td>\n",
              "    </tr>\n",
              "    <tr>\n",
              "      <th>38889</th>\n",
              "      <td>закон об образовании в кировской области</td>\n",
              "      <td>10.0</td>\n",
              "      <td>10.0</td>\n",
              "      <td>10.0</td>\n",
              "      <td>78.512397</td>\n",
              "      <td>78.512397</td>\n",
              "      <td>78.512397</td>\n",
              "      <td>0.911283</td>\n",
              "      <td>10.0</td>\n",
              "      <td>0.368000</td>\n",
              "      <td>0.368000</td>\n",
              "      <td>1</td>\n",
              "      <td>0</td>\n",
              "    </tr>\n",
              "    <tr>\n",
              "      <th>35336</th>\n",
              "      <td>класс конструктивной пожарной опасности</td>\n",
              "      <td>2.0</td>\n",
              "      <td>2.0</td>\n",
              "      <td>2.0</td>\n",
              "      <td>80.000000</td>\n",
              "      <td>80.000000</td>\n",
              "      <td>80.000000</td>\n",
              "      <td>0.925687</td>\n",
              "      <td>10.0</td>\n",
              "      <td>0.807692</td>\n",
              "      <td>0.807692</td>\n",
              "      <td>0</td>\n",
              "      <td>1</td>\n",
              "    </tr>\n",
              "  </tbody>\n",
              "</table>\n",
              "</div>"
            ],
            "text/plain": [
              "                                          Query  doc_unique_7  ...  type  pred\n",
              "10268    снип несущие и ограждающие конструкции           2.0  ...     1     0\n",
              "38889  закон об образовании в кировской области          10.0  ...     1     0\n",
              "35336   класс конструктивной пожарной опасности           2.0  ...     0     1\n",
              "\n",
              "[3 rows x 13 columns]"
            ]
          },
          "metadata": {
            "tags": []
          },
          "execution_count": 48
        }
      ]
    },
    {
      "cell_type": "code",
      "metadata": {
        "colab": {
          "base_uri": "https://localhost:8080/"
        },
        "id": "8GoWnnSSpngS",
        "outputId": "b867934d-1a50-47f8-bdab-6487d696eac0"
      },
      "source": [
        "fail_test.shape"
      ],
      "execution_count": 49,
      "outputs": [
        {
          "output_type": "execute_result",
          "data": {
            "text/plain": [
              "(1751, 13)"
            ]
          },
          "metadata": {
            "tags": []
          },
          "execution_count": 49
        }
      ]
    },
    {
      "cell_type": "markdown",
      "metadata": {
        "id": "aUbzr5VRQPg9"
      },
      "source": [
        "***Выводы:***\n",
        "\n",
        "*   Как и предполагалось, лучший признак для выявления навигационных запросов - доля максимального CTR среди CTR из ТОР-10.\n",
        "\n",
        "*   Далее по важности идет max_CTR_quantile_0.5 - максимальное значение CTR среди документов, где число показов больше 50-го перцентиля. \n",
        "\n",
        "*   Затем - doc_unique_7 - количество документов, у которых уникальных запросов не больше 7.\n",
        "\n",
        "*   Остальные признаки существенного вклада не вносят.\n",
        "\n",
        "---\n",
        "\n",
        "\n",
        "*   В таблице CTR_position имеются дублирующие запросы, которые имеют разную кликабельность, что затрудняет определение класса запроса.\n",
        "\n",
        "\n",
        "*   Часть \"непопаданий\" связана с отсутствием у некоторых запросов (~3тыс) документов на выдаче (возможно, документы свежие и еще не загружены в базу), причем среди них есть как навигационные, так и ненавигационные.\n",
        "\n",
        "\n",
        "*   Случается и наоборот, что у запроса есть документы, но \"кликабельность\" нулевая (что тоже может быть связано, например, со свежими документами) \n",
        "\n",
        "\n",
        "\n",
        "*   Схожие проблемы и просто с малыми показателями \"кликабельности\" запросов.\n",
        "\n",
        "*   Таким образом, здесь присутствует проблема холодного старта (как относительно новых документов, так и относительно новых запросов).\n",
        "\n",
        "*   К тому же, не стоит исключать неправильную разметку и наличие \"мусора\".\n",
        "\n",
        "*   Таким образом, по одной лишь кликовой статистике, думаю, не удастся точно определить тип запроса. \n",
        "\n",
        "\n",
        "\n"
      ]
    },
    {
      "cell_type": "markdown",
      "metadata": {
        "id": "IMEGCoLdsR0Z"
      },
      "source": [
        "# Любопытство"
      ]
    },
    {
      "cell_type": "markdown",
      "metadata": {
        "id": "w-Jug4Z11lSS"
      },
      "source": [
        "Так как неизвестно, как определялось априори, то можно повторить действия через Tfidf и ради любопытства посмотреть, насколько мы приблизимся к таргету. Думаю, что такие задачи, как определение типа запроса, по большей мере относятся к NLP-задачам.\n",
        "\n",
        "\n",
        "*   Наивная векторизация запросов без предварительной предобработки\n",
        "\n",
        "\n"
      ]
    },
    {
      "cell_type": "code",
      "metadata": {
        "id": "B-G_MnMZYp-q"
      },
      "source": [
        "from sklearn.feature_extraction.text import TfidfVectorizer\n",
        "from sklearn.linear_model import SGDClassifier, LogisticRegression"
      ],
      "execution_count": 50,
      "outputs": []
    },
    {
      "cell_type": "code",
      "metadata": {
        "id": "d5DkL09EZK7r"
      },
      "source": [
        "# Опытным путём оказалось, что н-грамма (1, 3) - самая эффективная.\n",
        "IDF = TfidfVectorizer(analyzer = \"char\", ngram_range=(1, 3), max_df = 0.4, min_df = 5)\n",
        "x_q = IDF.fit_transform(df[\"Query\"])"
      ],
      "execution_count": 51,
      "outputs": []
    },
    {
      "cell_type": "code",
      "metadata": {
        "id": "iAUVpZnKZevi"
      },
      "source": [
        "x_train, x_test, y_train, y_test = train_test_split(x_q, y, test_size=0.25, random_state=23)"
      ],
      "execution_count": 52,
      "outputs": []
    },
    {
      "cell_type": "code",
      "metadata": {
        "colab": {
          "base_uri": "https://localhost:8080/"
        },
        "id": "YrKmZxGaJ2Fs",
        "outputId": "ff461aca-648e-4f8e-da2a-f4196d49bb08"
      },
      "source": [
        "LR = LogisticRegression()\n",
        "LR.fit(x_train, y_train)\n",
        "y_pred = LR.predict(x_test)\n",
        "np.mean(y_pred == y_test)"
      ],
      "execution_count": 57,
      "outputs": [
        {
          "output_type": "execute_result",
          "data": {
            "text/plain": [
              "0.9634411830943623"
            ]
          },
          "metadata": {
            "tags": []
          },
          "execution_count": 57
        }
      ]
    },
    {
      "cell_type": "code",
      "metadata": {
        "colab": {
          "base_uri": "https://localhost:8080/"
        },
        "id": "nqvYe-iXOCmy",
        "outputId": "917e4cdf-aca4-4fdd-b589-e1013f127105"
      },
      "source": [
        "f1_score(y_test,y_pred)"
      ],
      "execution_count": 58,
      "outputs": [
        {
          "output_type": "execute_result",
          "data": {
            "text/plain": [
              "0.9465129049972543"
            ]
          },
          "metadata": {
            "tags": []
          },
          "execution_count": 58
        }
      ]
    },
    {
      "cell_type": "code",
      "metadata": {
        "colab": {
          "base_uri": "https://localhost:8080/"
        },
        "id": "dgMftylJaJJc",
        "outputId": "c14c1ad1-5108-4739-f849-ddef92184d86"
      },
      "source": [
        "SGD = SGDClassifier(alpha=0.00001)\n",
        "SGD.fit(x_train, y_train)\n",
        "y_pred = SGD.predict(x_test)\n",
        "np.mean(y_pred == y_test)\n"
      ],
      "execution_count": 59,
      "outputs": [
        {
          "output_type": "execute_result",
          "data": {
            "text/plain": [
              "0.9721492380451918"
            ]
          },
          "metadata": {
            "tags": []
          },
          "execution_count": 59
        }
      ]
    },
    {
      "cell_type": "code",
      "metadata": {
        "colab": {
          "base_uri": "https://localhost:8080/"
        },
        "id": "x6xbZpsvOVre",
        "outputId": "53215241-c7c6-44a9-ff90-516c880d30f3"
      },
      "source": [
        "f1_score(y_test,y_pred)"
      ],
      "execution_count": 60,
      "outputs": [
        {
          "output_type": "execute_result",
          "data": {
            "text/plain": [
              "0.9599913728027607"
            ]
          },
          "metadata": {
            "tags": []
          },
          "execution_count": 60
        }
      ]
    },
    {
      "cell_type": "markdown",
      "metadata": {
        "id": "VYCzNH9AL1SC"
      },
      "source": [
        "То есть таким способом навигационность запроса определяется точнее. \n",
        "\n",
        "Вероятно, объединив два подхода, можно добиться лучшего результата.\n",
        "\n"
      ]
    }
  ]
}